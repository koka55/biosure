{
  "cells": [
    {
      "cell_type": "markdown",
      "metadata": {
        "id": "Xa4cDu6X4zDV"
      },
      "source": [
        "# INSTRUCTIONS"
      ]
    },
    {
      "cell_type": "markdown",
      "metadata": {
        "id": "RVWLt1G88K8X"
      },
      "source": [
        "This file is designed to run with minimal user input. The code is divided into multiple steps and the user must execute the steps sequentially to produce results.\n",
        "\n",
        "* **Section 1**: downloads the dataset automatically\n",
        "* **Section 2**: imports all necessary libraries\n",
        "* **Section 3**: creates all the necessary methods for experiments\n",
        "* **Section 4**: executes the experiments to produce results\n",
        "* **Section 5**: visualises the results"
      ]
    },
    {
      "cell_type": "markdown",
      "metadata": {
        "id": "SvZ28x_T-uv0"
      },
      "source": [
        "# STEP 1 - Download Dataset\n"
      ]
    },
    {
      "cell_type": "markdown",
      "metadata": {
        "id": "WTbFW6Zm4p9g"
      },
      "source": [
        "Downloads dataset from repository, unzips and mounts to google drive"
      ]
    },
    {
      "cell_type": "code",
      "execution_count": 19,
      "metadata": {
        "colab": {
          "base_uri": "https://localhost:8080/"
        },
        "id": "wTwNvYDATd3h",
        "outputId": "bdc0be16-f470-4d21-b834-a87e346e4d3a"
      },
      "outputs": [
        {
          "name": "stdout",
          "output_type": "stream",
          "text": [
            "Drive already mounted at /content/drive; to attempt to forcibly remount, call drive.mount(\"/content/drive\", force_remount=True).\n"
          ]
        }
      ],
      "source": [
        "from google.colab import drive\n",
        "drive.mount('/content/drive')"
      ]
    },
    {
      "cell_type": "code",
      "execution_count": 25,
      "metadata": {
        "id": "ECDiIssoTkp5"
      },
      "outputs": [],
      "source": [
        "f = open('/content/drive/MyDrive/behaviour_biometrics_dataset/raw_kmt_dataset/raw_kmt_user_' + user_number + '.json')"
      ]
    },
    {
      "cell_type": "code",
      "execution_count": 22,
      "metadata": {
        "colab": {
          "base_uri": "https://localhost:8080/"
        },
        "id": "gU5qOxmMVq18",
        "outputId": "2771b6bc-c03f-4f0a-90dd-35e1382c59ac"
      },
      "outputs": [
        {
          "name": "stdout",
          "output_type": "stream",
          "text": [
            "<_io.TextIOWrapper name='/content/drive/MyDrive/behaviour_biometrics_dataset/raw_kmt_dataset/raw_kmt_user_0001.json' mode='r' encoding='UTF-8'>\n"
          ]
        }
      ],
      "source": []
    },
    {
      "cell_type": "code",
      "execution_count": 17,
      "metadata": {
        "colab": {
          "base_uri": "https://localhost:8080/"
        },
        "id": "rqWwDYOH9KuF",
        "outputId": "b8e4193f-2cf8-4a5f-dc0a-de9e48e9c0d2"
      },
      "outputs": [
        {
          "name": "stdout",
          "output_type": "stream",
          "text": [
            "Mounted at /content/drive/\n",
            "behaviour_biometrics_dataset.zip  drive  sample_data\n"
          ]
        }
      ],
      "source": [
        "from google.colab import drive\n",
        "drive.mount('/content/drive/', force_remount=True)\n",
        "\n",
        "dataset_name = 'behaviour_biometrics_dataset'\n",
        "\n",
        "!ls"
      ]
    },
    {
      "cell_type": "markdown",
      "metadata": {
        "id": "Qpf1hWCtjuyk"
      },
      "source": [
        "# STEP 2 - Libraries\n"
      ]
    },
    {
      "cell_type": "markdown",
      "metadata": {
        "id": "QdvhZROd4Lbg"
      },
      "source": [
        "Imports the key libraries used within this .IPYNB file."
      ]
    },
    {
      "cell_type": "code",
      "execution_count": 2,
      "metadata": {
        "id": "d0A79oQpkXcO"
      },
      "outputs": [],
      "source": [
        "from sklearn.naive_bayes import GaussianNB\n",
        "from sklearn import tree\n",
        "from sklearn.model_selection import train_test_split\n",
        "from sklearn.metrics import classification_report\n",
        "from sklearn import metrics\n",
        "import matplotlib.pyplot as plt\n",
        "import numpy as np\n",
        "from google.colab import drive\n",
        "import json\n",
        "import pandas as pd\n",
        "import math"
      ]
    },
    {
      "cell_type": "markdown",
      "metadata": {
        "id": "AteSUxqm4Ci2"
      },
      "source": [
        "# STEP 3 - Core Methods"
      ]
    },
    {
      "cell_type": "markdown",
      "metadata": {
        "id": "6HccAHVJ5JRh"
      },
      "source": [
        "Executes the methods necessary to run experiments"
      ]
    },
    {
      "cell_type": "code",
      "execution_count": 3,
      "metadata": {
        "id": "mpYGKt2m6qNJ"
      },
      "outputs": [],
      "source": [
        "# CONVERTS DICTIONARIES TAKEN FROM .JSON FILES INTO DATAFRAMES FOR THE KEY EVENTS\n",
        "def dict_key_conversion(data):\n",
        "    temp_df = pd.DataFrame(columns=['test_number', 'dwell_time', 'flight_time', 'key_pressed'])\n",
        "    temp_flight_df = pd.DataFrame(columns=['test_number', 'flight_time', 'key_released'])\n",
        "\n",
        "    temp_df_count = 0 # indicates which row of the df the next row of data should be appeneded into\n",
        "    temp_flight_df_count = 0\n",
        "\n",
        "    for i in range(1, 11): # loops through each of the tests in true_data\n",
        "        k_data = data['test_'+str(i)]['key_events']\n",
        "        # removes tabs from the data, as kivy, which is the library used for data collection, doesn't register tab releases, only presses\n",
        "        tabless_k_data = []\n",
        "        for k in k_data:\n",
        "            if k['Key'] != 'tab':\n",
        "                tabless_k_data.append(k)\n",
        "\n",
        "        count = 0 #counter for how many iterations into the for loop it is\n",
        "        f_count = 0 #counter for how many iterations into the loop the flight section has done\n",
        "        prev_key_press = 0\n",
        "        prev_key_release = 0\n",
        "        for j in tabless_k_data:\n",
        "            if j['Event'] == 'pressed': # THIS EXECUTES TO FIND THE DWELL TIME\n",
        "                flight_impute = 0 # imputes flight time as 0 for now, as there are instances of key presses not having releases at the end of the test\n",
        "                key_id = j['Key'] # this is what the actual key that is being pressed/released is\n",
        "                key_press_time = j['Epoch'] # the epoch time of the key press\n",
        "                key_release = False # is true when the release of the key has been found\n",
        "                cont_count = 1 # keeps track of counting from the current key press, as it loops from\n",
        "\n",
        "                while key_release == False: # continues\n",
        "                    c = cont_count + count\n",
        "                    start_row = tabless_k_data[count]\n",
        "                    next_row = tabless_k_data[c]\n",
        "                    # executes if the row is the release of the key that was pressed, and exits the while loop\n",
        "                    if next_row['Key'] == key_id and next_row['Event'] == 'released':\n",
        "                        key_release_time = next_row['Epoch']\n",
        "                        dwell_time = float(key_release_time) - float(key_press_time)\n",
        "                        key_release = True\n",
        "                    # executes if the next row is a press event for a different key\n",
        "                    elif next_row['Key'] != key_id and next_row['Event'] == 'pressed':\n",
        "                        cont_count += 1\n",
        "                    elif next_row['Key'] != key_id and next_row['Event'] == 'released':\n",
        "                        cont_count += 1\n",
        "                    else:\n",
        "                        key_release = True\n",
        "                        dwell_time = 0\n",
        "                        key_release_time = start_row['Epoch']\n",
        "\n",
        "                temp_df.loc[temp_df_count] = [i, dwell_time, flight_impute, key_id]\n",
        "\n",
        "                prev_key_press = key_press_time\n",
        "                prev_key_release = key_release_time\n",
        "                temp_df_count += 1\n",
        "\n",
        "            count += 1\n",
        "\n",
        "            if j['Event'] == 'released': # THIS EXECUTES TO FIND THE FLIGHT TIME\n",
        "                key_id = j['Key']\n",
        "                f_cont_count = 1\n",
        "                flight_time = []\n",
        "                flight_found = False\n",
        "                while flight_found == False:\n",
        "                    f_c = f_count + f_cont_count\n",
        "                    if f_c < len(tabless_k_data):\n",
        "                        next_row = tabless_k_data[f_c]\n",
        "                        if next_row['Event'] == 'pressed' and next_row['Key'] != key_id:\n",
        "                            flight_time = float(next_row['Epoch']) - float(j['Epoch'])\n",
        "                            temp_flight_df.loc[temp_flight_df_count] = [i, flight_time, key_id]\n",
        "                            temp_flight_df_count += 1\n",
        "                            flight_found = True\n",
        "                        f_cont_count += 1\n",
        "                    else:\n",
        "                        flight_found = True\n",
        "            f_count += 1\n",
        "\n",
        "    # Now merges the flight time df with the rest of the features\n",
        "    for i in range(1, 11):\n",
        "        fh_count = 0\n",
        "        flight_hold = []\n",
        "        for j in temp_flight_df.index:\n",
        "            if temp_flight_df.at[j, 'test_number'] == i:\n",
        "                flight_hold.append(temp_flight_df.at[j, 'flight_time'])\n",
        "        fh_count = 0\n",
        "\n",
        "        for j in temp_df.index:\n",
        "            if temp_df.at[j, 'test_number'] == i and fh_count < len(flight_hold):\n",
        "                temp_df.at[j, 'flight_time'] = flight_hold[fh_count]\n",
        "                fh_count += 1\n",
        "\n",
        "    true_k_df = temp_df\n",
        "    return true_k_df"
      ]
    },
    {
      "cell_type": "code",
      "execution_count": 4,
      "metadata": {
        "id": "6UvNRM6A7MuM"
      },
      "outputs": [],
      "source": [
        "# CONVERTS DICTIONARIES TAKEN FROM .JSON FILES INTO DATAFRAMES FOR THE MOUSE EVENTS\n",
        "def get_distance(a, b): # method used to calculate distance between two coordinates\n",
        "    distance = math.sqrt(((a[0] - b[0]) ** 2) + ((a[1] - b[1]) ** 2))\n",
        "    return distance\n",
        "\n",
        "def dict_mouse_conversion(data):\n",
        "    m_df = pd.DataFrame(columns = ['test_number', 'movement_id', 'trajectory', 'single_coor'])\n",
        "    row_count = 0\n",
        "    for i in range(1, 11):\n",
        "        m_data = data['test_'+str(i)]['mouse_events']\n",
        "        m_movements = []\n",
        "        for j in m_data[:len(m_data)-1]:\n",
        "            if j['Event'] == 'movement':\n",
        "                m_movements.append(j)\n",
        "\n",
        "        # creates dictionary that passes all the movement coordinates to the each movement ID in the test\n",
        "        movement_coor_dict = {}\n",
        "        for j in m_movements:\n",
        "            movement_coor_dict[j['Movement ID']] = []\n",
        "        for j in m_movements:\n",
        "            movement_coor_dict[j['Movement ID']].append(j['Coordinates'])\n",
        "\n",
        "        # calculates the overall trajectory length for each of the movement IDs\n",
        "        for j in movement_coor_dict:\n",
        "            coor_list = movement_coor_dict[j]\n",
        "            motion_start = False\n",
        "            trajectory = 0\n",
        "            if len(coor_list) > 1:\n",
        "                trajectory_list = []\n",
        "                if motion_start == True:\n",
        "                    motion_start = False\n",
        "                else:\n",
        "                    count = 0\n",
        "                    for k in coor_list:\n",
        "                        trajectory_list.append(get_distance(coor_list[count-1], coor_list[count]))\n",
        "                        count += 1\n",
        "                    movement_id = j\n",
        "                    trajectory = sum(trajectory_list)\n",
        "                    single_coor = False\n",
        "            else:\n",
        "                movement_id = 1\n",
        "                trajectory_list = [0]\n",
        "                trajectory = 0\n",
        "                single_coor = False\n",
        "            m_df.loc[row_count] = [i, movement_id, trajectory, single_coor]\n",
        "            row_count += 1\n",
        "    m_df = m_df.sort_values(by=['test_number', 'movement_id'])\n",
        "\n",
        "    for j in m_df['single_coor'].tolist():\n",
        "        if j == True:\n",
        "            m_df = movement_df.drop[count]\n",
        "        count += 1\n",
        "    m_df = m_df.reset_index(drop=True)\n",
        "    return m_df"
      ]
    },
    {
      "cell_type": "code",
      "execution_count": 5,
      "metadata": {
        "id": "JkaYpvW47wSY"
      },
      "outputs": [],
      "source": [
        "# GENERATES FEATURES FOR EACH TEST FROM THE DFS GENERATED IN THE PREVIOUS TWO CELLS\n",
        "def feature_gen(k_data, m_data):\n",
        "    columns = ['dwell_avg', 'flight_avg', 'traj_avg']\n",
        "\n",
        "    df = pd.DataFrame(columns=columns)\n",
        "\n",
        "    # for loop calculates average value for the dwell time, flight time and trajectory for each test\n",
        "    for i in range(1, 11):\n",
        "        dwell_list = []\n",
        "        flight_list = []\n",
        "        traj_list = []\n",
        "        for j in k_data.index:\n",
        "            if k_data.at[j, 'test_number'] == i:\n",
        "                dwell_list.append(k_data.at[j, 'dwell_time'])\n",
        "                flight_list.append(k_data.at[j, 'flight_time'])\n",
        "        for j in m_data.index:\n",
        "            if m_data.at[j, 'test_number'] == i:\n",
        "                traj_list.append(m_data.at[j, 'trajectory'])\n",
        "\n",
        "        dwell_list = [j for j in dwell_list if j != 0]\n",
        "        flight_list = [j for j in flight_list if j != 0]\n",
        "        traj_list = [j for j in traj_list if j != 0]\n",
        "\n",
        "        dwell_avg = sum(dwell_list)/len(dwell_list)\n",
        "        flight_avg = sum(flight_list)/len(dwell_list)\n",
        "        traj_avg = sum(traj_list)/len(traj_list)\n",
        "\n",
        "\n",
        "        agg_data = [dwell_avg, flight_avg, traj_avg]\n",
        "\n",
        "        df.loc[i] = agg_data\n",
        "    return df"
      ]
    },
    {
      "cell_type": "markdown",
      "metadata": {
        "id": "wL6VtTBy6xpa"
      },
      "source": [
        "# STEP 4 - Experiments & Results\n",
        "\n"
      ]
    },
    {
      "cell_type": "markdown",
      "metadata": {
        "id": "20KznIZF6TMv"
      },
      "source": [
        "Loads the raw .json files from google drive, generates features for ML classification task, and evaluates the models."
      ]
    },
    {
      "cell_type": "code",
      "execution_count": 10,
      "metadata": {
        "colab": {
          "base_uri": "https://localhost:8080/"
        },
        "id": "8Xg8OJ4BTPBd",
        "outputId": "efdecf0a-b0a4-47e4-ba65-c0ed025c9696"
      },
      "outputs": [
        {
          "name": "stdout",
          "output_type": "stream",
          "text": [
            "ls: cannot access '/content/drive/MyDrive/behaviour_biometrics_dataset/raw_kmt_dataset/': No such file or directory\n"
          ]
        }
      ],
      "source": [
        "!ls /content/drive/MyDrive/behaviour_biometrics_dataset/raw_kmt_dataset/"
      ]
    },
    {
      "cell_type": "code",
      "execution_count": 27,
      "metadata": {
        "colab": {
          "base_uri": "https://localhost:8080/"
        },
        "id": "1LYQooA18PlW",
        "outputId": "b1653982-637a-4f52-8133-f9b19a285c75"
      },
      "outputs": [
        {
          "name": "stderr",
          "output_type": "stream",
          "text": [
            "<ipython-input-3-8a26ce10022a>:86: FutureWarning: Setting an item of incompatible dtype is deprecated and will raise an error in a future version of pandas. Value '0.12411165237426758' has dtype incompatible with int64, please explicitly cast to a compatible dtype first.\n",
            "  temp_df.at[j, 'flight_time'] = flight_hold[fh_count]\n",
            "<ipython-input-3-8a26ce10022a>:86: FutureWarning: Setting an item of incompatible dtype is deprecated and will raise an error in a future version of pandas. Value '0.15212512016296387' has dtype incompatible with int64, please explicitly cast to a compatible dtype first.\n",
            "  temp_df.at[j, 'flight_time'] = flight_hold[fh_count]\n"
          ]
        },
        {
          "name": "stdout",
          "output_type": "stream",
          "text": [
            "User 1\n",
            "Target Labels [0, 1, 0, 1]\n",
            "Predicted Labels [0 1 1 1]\n",
            "Accuracy: 0.75\n",
            "Fm: 0.7333333333333334\n",
            "----------------------------\n"
          ]
        },
        {
          "name": "stderr",
          "output_type": "stream",
          "text": [
            "<ipython-input-3-8a26ce10022a>:86: FutureWarning: Setting an item of incompatible dtype is deprecated and will raise an error in a future version of pandas. Value '0.08805513381958008' has dtype incompatible with int64, please explicitly cast to a compatible dtype first.\n",
            "  temp_df.at[j, 'flight_time'] = flight_hold[fh_count]\n",
            "<ipython-input-3-8a26ce10022a>:86: FutureWarning: Setting an item of incompatible dtype is deprecated and will raise an error in a future version of pandas. Value '0.1383669376373291' has dtype incompatible with int64, please explicitly cast to a compatible dtype first.\n",
            "  temp_df.at[j, 'flight_time'] = flight_hold[fh_count]\n"
          ]
        },
        {
          "name": "stdout",
          "output_type": "stream",
          "text": [
            "User 2\n",
            "Target Labels [0, 1, 0, 1]\n",
            "Predicted Labels [1 1 0 1]\n",
            "Accuracy: 0.75\n",
            "Fm: 0.7333333333333334\n",
            "----------------------------\n"
          ]
        },
        {
          "name": "stderr",
          "output_type": "stream",
          "text": [
            "<ipython-input-3-8a26ce10022a>:86: FutureWarning: Setting an item of incompatible dtype is deprecated and will raise an error in a future version of pandas. Value '1.9563541412353516' has dtype incompatible with int64, please explicitly cast to a compatible dtype first.\n",
            "  temp_df.at[j, 'flight_time'] = flight_hold[fh_count]\n",
            "<ipython-input-3-8a26ce10022a>:86: FutureWarning: Setting an item of incompatible dtype is deprecated and will raise an error in a future version of pandas. Value '0.16317152976989746' has dtype incompatible with int64, please explicitly cast to a compatible dtype first.\n",
            "  temp_df.at[j, 'flight_time'] = flight_hold[fh_count]\n"
          ]
        },
        {
          "name": "stdout",
          "output_type": "stream",
          "text": [
            "User 3\n",
            "Target Labels [0, 1, 0, 1]\n",
            "Predicted Labels [0 1 0 1]\n",
            "Accuracy: 1.0\n",
            "Fm: 1.0\n",
            "----------------------------\n"
          ]
        },
        {
          "name": "stderr",
          "output_type": "stream",
          "text": [
            "<ipython-input-3-8a26ce10022a>:86: FutureWarning: Setting an item of incompatible dtype is deprecated and will raise an error in a future version of pandas. Value '1.1194884777069092' has dtype incompatible with int64, please explicitly cast to a compatible dtype first.\n",
            "  temp_df.at[j, 'flight_time'] = flight_hold[fh_count]\n",
            "<ipython-input-3-8a26ce10022a>:86: FutureWarning: Setting an item of incompatible dtype is deprecated and will raise an error in a future version of pandas. Value '0.1795940399169922' has dtype incompatible with int64, please explicitly cast to a compatible dtype first.\n",
            "  temp_df.at[j, 'flight_time'] = flight_hold[fh_count]\n"
          ]
        },
        {
          "name": "stdout",
          "output_type": "stream",
          "text": [
            "User 4\n",
            "Target Labels [0, 1, 0, 1]\n",
            "Predicted Labels [1 1 0 1]\n",
            "Accuracy: 0.75\n",
            "Fm: 0.7333333333333334\n",
            "----------------------------\n"
          ]
        },
        {
          "name": "stderr",
          "output_type": "stream",
          "text": [
            "<ipython-input-3-8a26ce10022a>:86: FutureWarning: Setting an item of incompatible dtype is deprecated and will raise an error in a future version of pandas. Value '0.4791879653930664' has dtype incompatible with int64, please explicitly cast to a compatible dtype first.\n",
            "  temp_df.at[j, 'flight_time'] = flight_hold[fh_count]\n",
            "<ipython-input-3-8a26ce10022a>:86: FutureWarning: Setting an item of incompatible dtype is deprecated and will raise an error in a future version of pandas. Value '0.15119242668151855' has dtype incompatible with int64, please explicitly cast to a compatible dtype first.\n",
            "  temp_df.at[j, 'flight_time'] = flight_hold[fh_count]\n"
          ]
        },
        {
          "name": "stdout",
          "output_type": "stream",
          "text": [
            "User 5\n",
            "Target Labels [0, 1, 0, 1]\n",
            "Predicted Labels [0 1 0 1]\n",
            "Accuracy: 1.0\n",
            "Fm: 1.0\n",
            "----------------------------\n"
          ]
        },
        {
          "name": "stderr",
          "output_type": "stream",
          "text": [
            "<ipython-input-3-8a26ce10022a>:86: FutureWarning: Setting an item of incompatible dtype is deprecated and will raise an error in a future version of pandas. Value '0.12276649475097656' has dtype incompatible with int64, please explicitly cast to a compatible dtype first.\n",
            "  temp_df.at[j, 'flight_time'] = flight_hold[fh_count]\n",
            "<ipython-input-3-8a26ce10022a>:86: FutureWarning: Setting an item of incompatible dtype is deprecated and will raise an error in a future version of pandas. Value '0.16077613830566406' has dtype incompatible with int64, please explicitly cast to a compatible dtype first.\n",
            "  temp_df.at[j, 'flight_time'] = flight_hold[fh_count]\n"
          ]
        },
        {
          "name": "stdout",
          "output_type": "stream",
          "text": [
            "User 6\n",
            "Target Labels [0, 1, 0, 1]\n",
            "Predicted Labels [0 1 0 1]\n",
            "Accuracy: 1.0\n",
            "Fm: 1.0\n",
            "----------------------------\n"
          ]
        },
        {
          "name": "stderr",
          "output_type": "stream",
          "text": [
            "<ipython-input-3-8a26ce10022a>:86: FutureWarning: Setting an item of incompatible dtype is deprecated and will raise an error in a future version of pandas. Value '0.0853428840637207' has dtype incompatible with int64, please explicitly cast to a compatible dtype first.\n",
            "  temp_df.at[j, 'flight_time'] = flight_hold[fh_count]\n",
            "<ipython-input-3-8a26ce10022a>:86: FutureWarning: Setting an item of incompatible dtype is deprecated and will raise an error in a future version of pandas. Value '0.063201904296875' has dtype incompatible with int64, please explicitly cast to a compatible dtype first.\n",
            "  temp_df.at[j, 'flight_time'] = flight_hold[fh_count]\n"
          ]
        },
        {
          "name": "stdout",
          "output_type": "stream",
          "text": [
            "User 7\n",
            "Target Labels [0, 1, 0, 1]\n",
            "Predicted Labels [0 1 0 1]\n",
            "Accuracy: 1.0\n",
            "Fm: 1.0\n",
            "----------------------------\n"
          ]
        },
        {
          "name": "stderr",
          "output_type": "stream",
          "text": [
            "<ipython-input-3-8a26ce10022a>:86: FutureWarning: Setting an item of incompatible dtype is deprecated and will raise an error in a future version of pandas. Value '0.19540166854858398' has dtype incompatible with int64, please explicitly cast to a compatible dtype first.\n",
            "  temp_df.at[j, 'flight_time'] = flight_hold[fh_count]\n",
            "<ipython-input-3-8a26ce10022a>:86: FutureWarning: Setting an item of incompatible dtype is deprecated and will raise an error in a future version of pandas. Value '0.2864551544189453' has dtype incompatible with int64, please explicitly cast to a compatible dtype first.\n",
            "  temp_df.at[j, 'flight_time'] = flight_hold[fh_count]\n",
            "/usr/local/lib/python3.10/dist-packages/sklearn/metrics/_classification.py:1531: UndefinedMetricWarning: Precision is ill-defined and being set to 0.0 in labels with no predicted samples. Use `zero_division` parameter to control this behavior.\n",
            "  _warn_prf(average, modifier, f\"{metric.capitalize()} is\", len(result))\n",
            "/usr/local/lib/python3.10/dist-packages/sklearn/metrics/_classification.py:1531: UndefinedMetricWarning: Precision is ill-defined and being set to 0.0 in labels with no predicted samples. Use `zero_division` parameter to control this behavior.\n",
            "  _warn_prf(average, modifier, f\"{metric.capitalize()} is\", len(result))\n",
            "/usr/local/lib/python3.10/dist-packages/sklearn/metrics/_classification.py:1531: UndefinedMetricWarning: Precision is ill-defined and being set to 0.0 in labels with no predicted samples. Use `zero_division` parameter to control this behavior.\n",
            "  _warn_prf(average, modifier, f\"{metric.capitalize()} is\", len(result))\n"
          ]
        },
        {
          "name": "stdout",
          "output_type": "stream",
          "text": [
            "User 8\n",
            "Target Labels [0, 1, 0, 1]\n",
            "Predicted Labels [0 0 0 0]\n",
            "Accuracy: 0.5\n",
            "Fm: 0.3333333333333333\n",
            "----------------------------\n"
          ]
        },
        {
          "name": "stderr",
          "output_type": "stream",
          "text": [
            "<ipython-input-3-8a26ce10022a>:86: FutureWarning: Setting an item of incompatible dtype is deprecated and will raise an error in a future version of pandas. Value '0.133925199508667' has dtype incompatible with int64, please explicitly cast to a compatible dtype first.\n",
            "  temp_df.at[j, 'flight_time'] = flight_hold[fh_count]\n",
            "<ipython-input-3-8a26ce10022a>:86: FutureWarning: Setting an item of incompatible dtype is deprecated and will raise an error in a future version of pandas. Value '0.12450909614562988' has dtype incompatible with int64, please explicitly cast to a compatible dtype first.\n",
            "  temp_df.at[j, 'flight_time'] = flight_hold[fh_count]\n"
          ]
        },
        {
          "name": "stdout",
          "output_type": "stream",
          "text": [
            "User 9\n",
            "Target Labels [0, 1, 0, 1]\n",
            "Predicted Labels [0 1 1 0]\n",
            "Accuracy: 0.5\n",
            "Fm: 0.5\n",
            "----------------------------\n"
          ]
        },
        {
          "name": "stderr",
          "output_type": "stream",
          "text": [
            "<ipython-input-3-8a26ce10022a>:86: FutureWarning: Setting an item of incompatible dtype is deprecated and will raise an error in a future version of pandas. Value '0.31940793991088867' has dtype incompatible with int64, please explicitly cast to a compatible dtype first.\n",
            "  temp_df.at[j, 'flight_time'] = flight_hold[fh_count]\n",
            "<ipython-input-3-8a26ce10022a>:86: FutureWarning: Setting an item of incompatible dtype is deprecated and will raise an error in a future version of pandas. Value '0.1496434211730957' has dtype incompatible with int64, please explicitly cast to a compatible dtype first.\n",
            "  temp_df.at[j, 'flight_time'] = flight_hold[fh_count]\n"
          ]
        },
        {
          "name": "stdout",
          "output_type": "stream",
          "text": [
            "User 10\n",
            "Target Labels [0, 1, 0, 1]\n",
            "Predicted Labels [1 1 0 1]\n",
            "Accuracy: 0.75\n",
            "Fm: 0.7333333333333334\n",
            "----------------------------\n"
          ]
        },
        {
          "name": "stderr",
          "output_type": "stream",
          "text": [
            "<ipython-input-3-8a26ce10022a>:86: FutureWarning: Setting an item of incompatible dtype is deprecated and will raise an error in a future version of pandas. Value '0.29933738708496094' has dtype incompatible with int64, please explicitly cast to a compatible dtype first.\n",
            "  temp_df.at[j, 'flight_time'] = flight_hold[fh_count]\n",
            "<ipython-input-3-8a26ce10022a>:86: FutureWarning: Setting an item of incompatible dtype is deprecated and will raise an error in a future version of pandas. Value '0.1271071434020996' has dtype incompatible with int64, please explicitly cast to a compatible dtype first.\n",
            "  temp_df.at[j, 'flight_time'] = flight_hold[fh_count]\n",
            "/usr/local/lib/python3.10/dist-packages/sklearn/metrics/_classification.py:1531: UndefinedMetricWarning: Precision is ill-defined and being set to 0.0 in labels with no predicted samples. Use `zero_division` parameter to control this behavior.\n",
            "  _warn_prf(average, modifier, f\"{metric.capitalize()} is\", len(result))\n",
            "/usr/local/lib/python3.10/dist-packages/sklearn/metrics/_classification.py:1531: UndefinedMetricWarning: Precision is ill-defined and being set to 0.0 in labels with no predicted samples. Use `zero_division` parameter to control this behavior.\n",
            "  _warn_prf(average, modifier, f\"{metric.capitalize()} is\", len(result))\n",
            "/usr/local/lib/python3.10/dist-packages/sklearn/metrics/_classification.py:1531: UndefinedMetricWarning: Precision is ill-defined and being set to 0.0 in labels with no predicted samples. Use `zero_division` parameter to control this behavior.\n",
            "  _warn_prf(average, modifier, f\"{metric.capitalize()} is\", len(result))\n"
          ]
        },
        {
          "name": "stdout",
          "output_type": "stream",
          "text": [
            "User 11\n",
            "Target Labels [0, 1, 0, 1]\n",
            "Predicted Labels [1 1 1 1]\n",
            "Accuracy: 0.5\n",
            "Fm: 0.3333333333333333\n",
            "----------------------------\n"
          ]
        },
        {
          "name": "stderr",
          "output_type": "stream",
          "text": [
            "<ipython-input-3-8a26ce10022a>:86: FutureWarning: Setting an item of incompatible dtype is deprecated and will raise an error in a future version of pandas. Value '0.4757719039916992' has dtype incompatible with int64, please explicitly cast to a compatible dtype first.\n",
            "  temp_df.at[j, 'flight_time'] = flight_hold[fh_count]\n",
            "<ipython-input-3-8a26ce10022a>:86: FutureWarning: Setting an item of incompatible dtype is deprecated and will raise an error in a future version of pandas. Value '0.46568727493286133' has dtype incompatible with int64, please explicitly cast to a compatible dtype first.\n",
            "  temp_df.at[j, 'flight_time'] = flight_hold[fh_count]\n"
          ]
        },
        {
          "name": "stdout",
          "output_type": "stream",
          "text": [
            "User 12\n",
            "Target Labels [0, 1, 0, 1]\n",
            "Predicted Labels [0 1 1 1]\n",
            "Accuracy: 0.75\n",
            "Fm: 0.7333333333333334\n",
            "----------------------------\n"
          ]
        },
        {
          "name": "stderr",
          "output_type": "stream",
          "text": [
            "<ipython-input-3-8a26ce10022a>:86: FutureWarning: Setting an item of incompatible dtype is deprecated and will raise an error in a future version of pandas. Value '0.07256126403808594' has dtype incompatible with int64, please explicitly cast to a compatible dtype first.\n",
            "  temp_df.at[j, 'flight_time'] = flight_hold[fh_count]\n",
            "<ipython-input-3-8a26ce10022a>:86: FutureWarning: Setting an item of incompatible dtype is deprecated and will raise an error in a future version of pandas. Value '0.1841874122619629' has dtype incompatible with int64, please explicitly cast to a compatible dtype first.\n",
            "  temp_df.at[j, 'flight_time'] = flight_hold[fh_count]\n"
          ]
        },
        {
          "name": "stdout",
          "output_type": "stream",
          "text": [
            "User 13\n",
            "Target Labels [0, 1, 0, 1]\n",
            "Predicted Labels [0 0 0 1]\n",
            "Accuracy: 0.75\n",
            "Fm: 0.7333333333333334\n",
            "----------------------------\n"
          ]
        },
        {
          "name": "stderr",
          "output_type": "stream",
          "text": [
            "<ipython-input-3-8a26ce10022a>:86: FutureWarning: Setting an item of incompatible dtype is deprecated and will raise an error in a future version of pandas. Value '1.1852333545684814' has dtype incompatible with int64, please explicitly cast to a compatible dtype first.\n",
            "  temp_df.at[j, 'flight_time'] = flight_hold[fh_count]\n",
            "<ipython-input-3-8a26ce10022a>:86: FutureWarning: Setting an item of incompatible dtype is deprecated and will raise an error in a future version of pandas. Value '0.15816020965576172' has dtype incompatible with int64, please explicitly cast to a compatible dtype first.\n",
            "  temp_df.at[j, 'flight_time'] = flight_hold[fh_count]\n",
            "/usr/local/lib/python3.10/dist-packages/sklearn/metrics/_classification.py:1531: UndefinedMetricWarning: Precision is ill-defined and being set to 0.0 in labels with no predicted samples. Use `zero_division` parameter to control this behavior.\n",
            "  _warn_prf(average, modifier, f\"{metric.capitalize()} is\", len(result))\n",
            "/usr/local/lib/python3.10/dist-packages/sklearn/metrics/_classification.py:1531: UndefinedMetricWarning: Precision is ill-defined and being set to 0.0 in labels with no predicted samples. Use `zero_division` parameter to control this behavior.\n",
            "  _warn_prf(average, modifier, f\"{metric.capitalize()} is\", len(result))\n",
            "/usr/local/lib/python3.10/dist-packages/sklearn/metrics/_classification.py:1531: UndefinedMetricWarning: Precision is ill-defined and being set to 0.0 in labels with no predicted samples. Use `zero_division` parameter to control this behavior.\n",
            "  _warn_prf(average, modifier, f\"{metric.capitalize()} is\", len(result))\n"
          ]
        },
        {
          "name": "stdout",
          "output_type": "stream",
          "text": [
            "User 14\n",
            "Target Labels [0, 1, 0, 1]\n",
            "Predicted Labels [1 1 1 1]\n",
            "Accuracy: 0.5\n",
            "Fm: 0.3333333333333333\n",
            "----------------------------\n"
          ]
        },
        {
          "name": "stderr",
          "output_type": "stream",
          "text": [
            "<ipython-input-3-8a26ce10022a>:86: FutureWarning: Setting an item of incompatible dtype is deprecated and will raise an error in a future version of pandas. Value '1.2887649536132812' has dtype incompatible with int64, please explicitly cast to a compatible dtype first.\n",
            "  temp_df.at[j, 'flight_time'] = flight_hold[fh_count]\n",
            "<ipython-input-3-8a26ce10022a>:86: FutureWarning: Setting an item of incompatible dtype is deprecated and will raise an error in a future version of pandas. Value '0.5705454349517822' has dtype incompatible with int64, please explicitly cast to a compatible dtype first.\n",
            "  temp_df.at[j, 'flight_time'] = flight_hold[fh_count]\n"
          ]
        },
        {
          "name": "stdout",
          "output_type": "stream",
          "text": [
            "User 15\n",
            "Target Labels [0, 1, 0, 1]\n",
            "Predicted Labels [0 1 0 0]\n",
            "Accuracy: 0.75\n",
            "Fm: 0.7333333333333334\n",
            "----------------------------\n"
          ]
        },
        {
          "name": "stderr",
          "output_type": "stream",
          "text": [
            "<ipython-input-3-8a26ce10022a>:86: FutureWarning: Setting an item of incompatible dtype is deprecated and will raise an error in a future version of pandas. Value '0.8196535110473633' has dtype incompatible with int64, please explicitly cast to a compatible dtype first.\n",
            "  temp_df.at[j, 'flight_time'] = flight_hold[fh_count]\n",
            "<ipython-input-3-8a26ce10022a>:86: FutureWarning: Setting an item of incompatible dtype is deprecated and will raise an error in a future version of pandas. Value '0.4267761707305908' has dtype incompatible with int64, please explicitly cast to a compatible dtype first.\n",
            "  temp_df.at[j, 'flight_time'] = flight_hold[fh_count]\n",
            "/usr/local/lib/python3.10/dist-packages/sklearn/metrics/_classification.py:1531: UndefinedMetricWarning: Precision is ill-defined and being set to 0.0 in labels with no predicted samples. Use `zero_division` parameter to control this behavior.\n",
            "  _warn_prf(average, modifier, f\"{metric.capitalize()} is\", len(result))\n",
            "/usr/local/lib/python3.10/dist-packages/sklearn/metrics/_classification.py:1531: UndefinedMetricWarning: Precision is ill-defined and being set to 0.0 in labels with no predicted samples. Use `zero_division` parameter to control this behavior.\n",
            "  _warn_prf(average, modifier, f\"{metric.capitalize()} is\", len(result))\n",
            "/usr/local/lib/python3.10/dist-packages/sklearn/metrics/_classification.py:1531: UndefinedMetricWarning: Precision is ill-defined and being set to 0.0 in labels with no predicted samples. Use `zero_division` parameter to control this behavior.\n",
            "  _warn_prf(average, modifier, f\"{metric.capitalize()} is\", len(result))\n"
          ]
        },
        {
          "name": "stdout",
          "output_type": "stream",
          "text": [
            "User 16\n",
            "Target Labels [0, 1, 0, 1]\n",
            "Predicted Labels [0 0 0 0]\n",
            "Accuracy: 0.5\n",
            "Fm: 0.3333333333333333\n",
            "----------------------------\n"
          ]
        },
        {
          "name": "stderr",
          "output_type": "stream",
          "text": [
            "<ipython-input-3-8a26ce10022a>:86: FutureWarning: Setting an item of incompatible dtype is deprecated and will raise an error in a future version of pandas. Value '2.220979690551758' has dtype incompatible with int64, please explicitly cast to a compatible dtype first.\n",
            "  temp_df.at[j, 'flight_time'] = flight_hold[fh_count]\n",
            "<ipython-input-3-8a26ce10022a>:86: FutureWarning: Setting an item of incompatible dtype is deprecated and will raise an error in a future version of pandas. Value '0.5863356590270996' has dtype incompatible with int64, please explicitly cast to a compatible dtype first.\n",
            "  temp_df.at[j, 'flight_time'] = flight_hold[fh_count]\n",
            "/usr/local/lib/python3.10/dist-packages/sklearn/metrics/_classification.py:1531: UndefinedMetricWarning: Precision is ill-defined and being set to 0.0 in labels with no predicted samples. Use `zero_division` parameter to control this behavior.\n",
            "  _warn_prf(average, modifier, f\"{metric.capitalize()} is\", len(result))\n",
            "/usr/local/lib/python3.10/dist-packages/sklearn/metrics/_classification.py:1531: UndefinedMetricWarning: Precision is ill-defined and being set to 0.0 in labels with no predicted samples. Use `zero_division` parameter to control this behavior.\n",
            "  _warn_prf(average, modifier, f\"{metric.capitalize()} is\", len(result))\n",
            "/usr/local/lib/python3.10/dist-packages/sklearn/metrics/_classification.py:1531: UndefinedMetricWarning: Precision is ill-defined and being set to 0.0 in labels with no predicted samples. Use `zero_division` parameter to control this behavior.\n",
            "  _warn_prf(average, modifier, f\"{metric.capitalize()} is\", len(result))\n"
          ]
        },
        {
          "name": "stdout",
          "output_type": "stream",
          "text": [
            "User 17\n",
            "Target Labels [0, 1, 0, 1]\n",
            "Predicted Labels [0 0 0 0]\n",
            "Accuracy: 0.5\n",
            "Fm: 0.3333333333333333\n",
            "----------------------------\n"
          ]
        },
        {
          "name": "stderr",
          "output_type": "stream",
          "text": [
            "<ipython-input-3-8a26ce10022a>:86: FutureWarning: Setting an item of incompatible dtype is deprecated and will raise an error in a future version of pandas. Value '0.695796012878418' has dtype incompatible with int64, please explicitly cast to a compatible dtype first.\n",
            "  temp_df.at[j, 'flight_time'] = flight_hold[fh_count]\n",
            "<ipython-input-3-8a26ce10022a>:86: FutureWarning: Setting an item of incompatible dtype is deprecated and will raise an error in a future version of pandas. Value '0.19422054290771484' has dtype incompatible with int64, please explicitly cast to a compatible dtype first.\n",
            "  temp_df.at[j, 'flight_time'] = flight_hold[fh_count]\n"
          ]
        },
        {
          "name": "stdout",
          "output_type": "stream",
          "text": [
            "User 18\n",
            "Target Labels [0, 1, 0, 1]\n",
            "Predicted Labels [0 1 0 1]\n",
            "Accuracy: 1.0\n",
            "Fm: 1.0\n",
            "----------------------------\n"
          ]
        },
        {
          "name": "stderr",
          "output_type": "stream",
          "text": [
            "<ipython-input-3-8a26ce10022a>:86: FutureWarning: Setting an item of incompatible dtype is deprecated and will raise an error in a future version of pandas. Value '0.31594038009643555' has dtype incompatible with int64, please explicitly cast to a compatible dtype first.\n",
            "  temp_df.at[j, 'flight_time'] = flight_hold[fh_count]\n",
            "<ipython-input-3-8a26ce10022a>:86: FutureWarning: Setting an item of incompatible dtype is deprecated and will raise an error in a future version of pandas. Value '0.25921034812927246' has dtype incompatible with int64, please explicitly cast to a compatible dtype first.\n",
            "  temp_df.at[j, 'flight_time'] = flight_hold[fh_count]\n"
          ]
        },
        {
          "name": "stdout",
          "output_type": "stream",
          "text": [
            "User 19\n",
            "Target Labels [0, 1, 0, 1]\n",
            "Predicted Labels [1 1 0 1]\n",
            "Accuracy: 0.75\n",
            "Fm: 0.7333333333333334\n",
            "----------------------------\n"
          ]
        },
        {
          "name": "stderr",
          "output_type": "stream",
          "text": [
            "<ipython-input-3-8a26ce10022a>:86: FutureWarning: Setting an item of incompatible dtype is deprecated and will raise an error in a future version of pandas. Value '0.011690855026245117' has dtype incompatible with int64, please explicitly cast to a compatible dtype first.\n",
            "  temp_df.at[j, 'flight_time'] = flight_hold[fh_count]\n",
            "<ipython-input-3-8a26ce10022a>:86: FutureWarning: Setting an item of incompatible dtype is deprecated and will raise an error in a future version of pandas. Value '0.31609296798706055' has dtype incompatible with int64, please explicitly cast to a compatible dtype first.\n",
            "  temp_df.at[j, 'flight_time'] = flight_hold[fh_count]\n"
          ]
        },
        {
          "name": "stdout",
          "output_type": "stream",
          "text": [
            "User 20\n",
            "Target Labels [0, 1, 0, 1]\n",
            "Predicted Labels [0 0 0 1]\n",
            "Accuracy: 0.75\n",
            "Fm: 0.7333333333333334\n",
            "----------------------------\n"
          ]
        },
        {
          "name": "stderr",
          "output_type": "stream",
          "text": [
            "<ipython-input-3-8a26ce10022a>:86: FutureWarning: Setting an item of incompatible dtype is deprecated and will raise an error in a future version of pandas. Value '0.9523496627807617' has dtype incompatible with int64, please explicitly cast to a compatible dtype first.\n",
            "  temp_df.at[j, 'flight_time'] = flight_hold[fh_count]\n",
            "<ipython-input-3-8a26ce10022a>:86: FutureWarning: Setting an item of incompatible dtype is deprecated and will raise an error in a future version of pandas. Value '0.1715555191040039' has dtype incompatible with int64, please explicitly cast to a compatible dtype first.\n",
            "  temp_df.at[j, 'flight_time'] = flight_hold[fh_count]\n"
          ]
        },
        {
          "name": "stdout",
          "output_type": "stream",
          "text": [
            "User 21\n",
            "Target Labels [0, 1, 0, 1]\n",
            "Predicted Labels [0 1 0 1]\n",
            "Accuracy: 1.0\n",
            "Fm: 1.0\n",
            "----------------------------\n"
          ]
        },
        {
          "name": "stderr",
          "output_type": "stream",
          "text": [
            "<ipython-input-3-8a26ce10022a>:86: FutureWarning: Setting an item of incompatible dtype is deprecated and will raise an error in a future version of pandas. Value '0.0638279914855957' has dtype incompatible with int64, please explicitly cast to a compatible dtype first.\n",
            "  temp_df.at[j, 'flight_time'] = flight_hold[fh_count]\n",
            "<ipython-input-3-8a26ce10022a>:86: FutureWarning: Setting an item of incompatible dtype is deprecated and will raise an error in a future version of pandas. Value '0.2194206714630127' has dtype incompatible with int64, please explicitly cast to a compatible dtype first.\n",
            "  temp_df.at[j, 'flight_time'] = flight_hold[fh_count]\n"
          ]
        },
        {
          "name": "stdout",
          "output_type": "stream",
          "text": [
            "User 22\n",
            "Target Labels [0, 1, 0, 1]\n",
            "Predicted Labels [0 1 1 1]\n",
            "Accuracy: 0.75\n",
            "Fm: 0.7333333333333334\n",
            "----------------------------\n"
          ]
        },
        {
          "name": "stderr",
          "output_type": "stream",
          "text": [
            "<ipython-input-3-8a26ce10022a>:86: FutureWarning: Setting an item of incompatible dtype is deprecated and will raise an error in a future version of pandas. Value '0.03761148452758789' has dtype incompatible with int64, please explicitly cast to a compatible dtype first.\n",
            "  temp_df.at[j, 'flight_time'] = flight_hold[fh_count]\n",
            "<ipython-input-3-8a26ce10022a>:86: FutureWarning: Setting an item of incompatible dtype is deprecated and will raise an error in a future version of pandas. Value '0.36469507217407227' has dtype incompatible with int64, please explicitly cast to a compatible dtype first.\n",
            "  temp_df.at[j, 'flight_time'] = flight_hold[fh_count]\n"
          ]
        },
        {
          "name": "stdout",
          "output_type": "stream",
          "text": [
            "User 23\n",
            "Target Labels [0, 1, 0, 1]\n",
            "Predicted Labels [0 1 0 1]\n",
            "Accuracy: 1.0\n",
            "Fm: 1.0\n",
            "----------------------------\n"
          ]
        },
        {
          "name": "stderr",
          "output_type": "stream",
          "text": [
            "<ipython-input-3-8a26ce10022a>:86: FutureWarning: Setting an item of incompatible dtype is deprecated and will raise an error in a future version of pandas. Value '0.681654691696167' has dtype incompatible with int64, please explicitly cast to a compatible dtype first.\n",
            "  temp_df.at[j, 'flight_time'] = flight_hold[fh_count]\n",
            "<ipython-input-3-8a26ce10022a>:86: FutureWarning: Setting an item of incompatible dtype is deprecated and will raise an error in a future version of pandas. Value '0.18199610710144043' has dtype incompatible with int64, please explicitly cast to a compatible dtype first.\n",
            "  temp_df.at[j, 'flight_time'] = flight_hold[fh_count]\n"
          ]
        },
        {
          "name": "stdout",
          "output_type": "stream",
          "text": [
            "User 24\n",
            "Target Labels [0, 1, 0, 1]\n",
            "Predicted Labels [0 1 0 1]\n",
            "Accuracy: 1.0\n",
            "Fm: 1.0\n",
            "----------------------------\n"
          ]
        },
        {
          "name": "stderr",
          "output_type": "stream",
          "text": [
            "<ipython-input-3-8a26ce10022a>:86: FutureWarning: Setting an item of incompatible dtype is deprecated and will raise an error in a future version of pandas. Value '0.1470491886138916' has dtype incompatible with int64, please explicitly cast to a compatible dtype first.\n",
            "  temp_df.at[j, 'flight_time'] = flight_hold[fh_count]\n",
            "<ipython-input-3-8a26ce10022a>:86: FutureWarning: Setting an item of incompatible dtype is deprecated and will raise an error in a future version of pandas. Value '0.07248282432556152' has dtype incompatible with int64, please explicitly cast to a compatible dtype first.\n",
            "  temp_df.at[j, 'flight_time'] = flight_hold[fh_count]\n"
          ]
        },
        {
          "name": "stdout",
          "output_type": "stream",
          "text": [
            "User 25\n",
            "Target Labels [0, 1, 0, 1]\n",
            "Predicted Labels [0 1 1 1]\n",
            "Accuracy: 0.75\n",
            "Fm: 0.7333333333333334\n",
            "----------------------------\n"
          ]
        },
        {
          "name": "stderr",
          "output_type": "stream",
          "text": [
            "<ipython-input-3-8a26ce10022a>:86: FutureWarning: Setting an item of incompatible dtype is deprecated and will raise an error in a future version of pandas. Value '0.21784615516662598' has dtype incompatible with int64, please explicitly cast to a compatible dtype first.\n",
            "  temp_df.at[j, 'flight_time'] = flight_hold[fh_count]\n",
            "<ipython-input-3-8a26ce10022a>:86: FutureWarning: Setting an item of incompatible dtype is deprecated and will raise an error in a future version of pandas. Value '0.047876596450805664' has dtype incompatible with int64, please explicitly cast to a compatible dtype first.\n",
            "  temp_df.at[j, 'flight_time'] = flight_hold[fh_count]\n"
          ]
        },
        {
          "name": "stdout",
          "output_type": "stream",
          "text": [
            "User 26\n",
            "Target Labels [0, 1, 0, 1]\n",
            "Predicted Labels [0 0 1 1]\n",
            "Accuracy: 0.5\n",
            "Fm: 0.5\n",
            "----------------------------\n"
          ]
        },
        {
          "name": "stderr",
          "output_type": "stream",
          "text": [
            "<ipython-input-3-8a26ce10022a>:86: FutureWarning: Setting an item of incompatible dtype is deprecated and will raise an error in a future version of pandas. Value '0.21860790252685547' has dtype incompatible with int64, please explicitly cast to a compatible dtype first.\n",
            "  temp_df.at[j, 'flight_time'] = flight_hold[fh_count]\n",
            "<ipython-input-3-8a26ce10022a>:86: FutureWarning: Setting an item of incompatible dtype is deprecated and will raise an error in a future version of pandas. Value '0.12124300003051758' has dtype incompatible with int64, please explicitly cast to a compatible dtype first.\n",
            "  temp_df.at[j, 'flight_time'] = flight_hold[fh_count]\n"
          ]
        },
        {
          "name": "stdout",
          "output_type": "stream",
          "text": [
            "User 27\n",
            "Target Labels [0, 1, 0, 1]\n",
            "Predicted Labels [1 0 0 1]\n",
            "Accuracy: 0.5\n",
            "Fm: 0.5\n",
            "----------------------------\n"
          ]
        },
        {
          "name": "stderr",
          "output_type": "stream",
          "text": [
            "<ipython-input-3-8a26ce10022a>:86: FutureWarning: Setting an item of incompatible dtype is deprecated and will raise an error in a future version of pandas. Value '0.28124427795410156' has dtype incompatible with int64, please explicitly cast to a compatible dtype first.\n",
            "  temp_df.at[j, 'flight_time'] = flight_hold[fh_count]\n",
            "<ipython-input-3-8a26ce10022a>:86: FutureWarning: Setting an item of incompatible dtype is deprecated and will raise an error in a future version of pandas. Value '0.03659462928771973' has dtype incompatible with int64, please explicitly cast to a compatible dtype first.\n",
            "  temp_df.at[j, 'flight_time'] = flight_hold[fh_count]\n"
          ]
        },
        {
          "name": "stdout",
          "output_type": "stream",
          "text": [
            "User 28\n",
            "Target Labels [0, 1, 0, 1]\n",
            "Predicted Labels [0 1 1 1]\n",
            "Accuracy: 0.75\n",
            "Fm: 0.7333333333333334\n",
            "----------------------------\n"
          ]
        },
        {
          "name": "stderr",
          "output_type": "stream",
          "text": [
            "<ipython-input-3-8a26ce10022a>:86: FutureWarning: Setting an item of incompatible dtype is deprecated and will raise an error in a future version of pandas. Value '1.3142547607421875' has dtype incompatible with int64, please explicitly cast to a compatible dtype first.\n",
            "  temp_df.at[j, 'flight_time'] = flight_hold[fh_count]\n",
            "<ipython-input-3-8a26ce10022a>:86: FutureWarning: Setting an item of incompatible dtype is deprecated and will raise an error in a future version of pandas. Value '0.11169886589050293' has dtype incompatible with int64, please explicitly cast to a compatible dtype first.\n",
            "  temp_df.at[j, 'flight_time'] = flight_hold[fh_count]\n"
          ]
        },
        {
          "name": "stdout",
          "output_type": "stream",
          "text": [
            "User 29\n",
            "Target Labels [0, 1, 0, 1]\n",
            "Predicted Labels [0 0 0 1]\n",
            "Accuracy: 0.75\n",
            "Fm: 0.7333333333333334\n",
            "----------------------------\n"
          ]
        },
        {
          "name": "stderr",
          "output_type": "stream",
          "text": [
            "<ipython-input-3-8a26ce10022a>:86: FutureWarning: Setting an item of incompatible dtype is deprecated and will raise an error in a future version of pandas. Value '0.92722487449646' has dtype incompatible with int64, please explicitly cast to a compatible dtype first.\n",
            "  temp_df.at[j, 'flight_time'] = flight_hold[fh_count]\n",
            "<ipython-input-3-8a26ce10022a>:86: FutureWarning: Setting an item of incompatible dtype is deprecated and will raise an error in a future version of pandas. Value '0.14404749870300293' has dtype incompatible with int64, please explicitly cast to a compatible dtype first.\n",
            "  temp_df.at[j, 'flight_time'] = flight_hold[fh_count]\n"
          ]
        },
        {
          "name": "stdout",
          "output_type": "stream",
          "text": [
            "User 30\n",
            "Target Labels [0, 1, 0, 1]\n",
            "Predicted Labels [0 1 0 1]\n",
            "Accuracy: 1.0\n",
            "Fm: 1.0\n",
            "----------------------------\n"
          ]
        },
        {
          "name": "stderr",
          "output_type": "stream",
          "text": [
            "<ipython-input-3-8a26ce10022a>:86: FutureWarning: Setting an item of incompatible dtype is deprecated and will raise an error in a future version of pandas. Value '0.28079676628112793' has dtype incompatible with int64, please explicitly cast to a compatible dtype first.\n",
            "  temp_df.at[j, 'flight_time'] = flight_hold[fh_count]\n",
            "<ipython-input-3-8a26ce10022a>:86: FutureWarning: Setting an item of incompatible dtype is deprecated and will raise an error in a future version of pandas. Value '0.12222647666931152' has dtype incompatible with int64, please explicitly cast to a compatible dtype first.\n",
            "  temp_df.at[j, 'flight_time'] = flight_hold[fh_count]\n"
          ]
        },
        {
          "name": "stdout",
          "output_type": "stream",
          "text": [
            "User 31\n",
            "Target Labels [0, 1, 0, 1]\n",
            "Predicted Labels [0 1 0 1]\n",
            "Accuracy: 1.0\n",
            "Fm: 1.0\n",
            "----------------------------\n"
          ]
        },
        {
          "name": "stderr",
          "output_type": "stream",
          "text": [
            "<ipython-input-3-8a26ce10022a>:86: FutureWarning: Setting an item of incompatible dtype is deprecated and will raise an error in a future version of pandas. Value '0.35746049880981445' has dtype incompatible with int64, please explicitly cast to a compatible dtype first.\n",
            "  temp_df.at[j, 'flight_time'] = flight_hold[fh_count]\n",
            "<ipython-input-3-8a26ce10022a>:86: FutureWarning: Setting an item of incompatible dtype is deprecated and will raise an error in a future version of pandas. Value '0.060411691665649414' has dtype incompatible with int64, please explicitly cast to a compatible dtype first.\n",
            "  temp_df.at[j, 'flight_time'] = flight_hold[fh_count]\n",
            "/usr/local/lib/python3.10/dist-packages/sklearn/metrics/_classification.py:1531: UndefinedMetricWarning: Precision is ill-defined and being set to 0.0 in labels with no predicted samples. Use `zero_division` parameter to control this behavior.\n",
            "  _warn_prf(average, modifier, f\"{metric.capitalize()} is\", len(result))\n",
            "/usr/local/lib/python3.10/dist-packages/sklearn/metrics/_classification.py:1531: UndefinedMetricWarning: Precision is ill-defined and being set to 0.0 in labels with no predicted samples. Use `zero_division` parameter to control this behavior.\n",
            "  _warn_prf(average, modifier, f\"{metric.capitalize()} is\", len(result))\n",
            "/usr/local/lib/python3.10/dist-packages/sklearn/metrics/_classification.py:1531: UndefinedMetricWarning: Precision is ill-defined and being set to 0.0 in labels with no predicted samples. Use `zero_division` parameter to control this behavior.\n",
            "  _warn_prf(average, modifier, f\"{metric.capitalize()} is\", len(result))\n"
          ]
        },
        {
          "name": "stdout",
          "output_type": "stream",
          "text": [
            "User 32\n",
            "Target Labels [0, 1, 0, 1]\n",
            "Predicted Labels [1 1 1 1]\n",
            "Accuracy: 0.5\n",
            "Fm: 0.3333333333333333\n",
            "----------------------------\n"
          ]
        },
        {
          "name": "stderr",
          "output_type": "stream",
          "text": [
            "<ipython-input-3-8a26ce10022a>:86: FutureWarning: Setting an item of incompatible dtype is deprecated and will raise an error in a future version of pandas. Value '101.78151321411133' has dtype incompatible with int64, please explicitly cast to a compatible dtype first.\n",
            "  temp_df.at[j, 'flight_time'] = flight_hold[fh_count]\n",
            "<ipython-input-3-8a26ce10022a>:86: FutureWarning: Setting an item of incompatible dtype is deprecated and will raise an error in a future version of pandas. Value '0.02445220947265625' has dtype incompatible with int64, please explicitly cast to a compatible dtype first.\n",
            "  temp_df.at[j, 'flight_time'] = flight_hold[fh_count]\n"
          ]
        },
        {
          "name": "stdout",
          "output_type": "stream",
          "text": [
            "User 33\n",
            "Target Labels [0, 1, 0, 1]\n",
            "Predicted Labels [0 1 0 0]\n",
            "Accuracy: 0.75\n",
            "Fm: 0.7333333333333334\n",
            "----------------------------\n"
          ]
        },
        {
          "name": "stderr",
          "output_type": "stream",
          "text": [
            "<ipython-input-3-8a26ce10022a>:86: FutureWarning: Setting an item of incompatible dtype is deprecated and will raise an error in a future version of pandas. Value '0.7329318523406982' has dtype incompatible with int64, please explicitly cast to a compatible dtype first.\n",
            "  temp_df.at[j, 'flight_time'] = flight_hold[fh_count]\n",
            "<ipython-input-3-8a26ce10022a>:86: FutureWarning: Setting an item of incompatible dtype is deprecated and will raise an error in a future version of pandas. Value '0.0508570671081543' has dtype incompatible with int64, please explicitly cast to a compatible dtype first.\n",
            "  temp_df.at[j, 'flight_time'] = flight_hold[fh_count]\n",
            "/usr/local/lib/python3.10/dist-packages/sklearn/metrics/_classification.py:1531: UndefinedMetricWarning: Precision is ill-defined and being set to 0.0 in labels with no predicted samples. Use `zero_division` parameter to control this behavior.\n",
            "  _warn_prf(average, modifier, f\"{metric.capitalize()} is\", len(result))\n",
            "/usr/local/lib/python3.10/dist-packages/sklearn/metrics/_classification.py:1531: UndefinedMetricWarning: Precision is ill-defined and being set to 0.0 in labels with no predicted samples. Use `zero_division` parameter to control this behavior.\n",
            "  _warn_prf(average, modifier, f\"{metric.capitalize()} is\", len(result))\n",
            "/usr/local/lib/python3.10/dist-packages/sklearn/metrics/_classification.py:1531: UndefinedMetricWarning: Precision is ill-defined and being set to 0.0 in labels with no predicted samples. Use `zero_division` parameter to control this behavior.\n",
            "  _warn_prf(average, modifier, f\"{metric.capitalize()} is\", len(result))\n"
          ]
        },
        {
          "name": "stdout",
          "output_type": "stream",
          "text": [
            "User 34\n",
            "Target Labels [0, 1, 0, 1]\n",
            "Predicted Labels [1 1 1 1]\n",
            "Accuracy: 0.5\n",
            "Fm: 0.3333333333333333\n",
            "----------------------------\n"
          ]
        },
        {
          "name": "stderr",
          "output_type": "stream",
          "text": [
            "<ipython-input-3-8a26ce10022a>:86: FutureWarning: Setting an item of incompatible dtype is deprecated and will raise an error in a future version of pandas. Value '0.08403158187866211' has dtype incompatible with int64, please explicitly cast to a compatible dtype first.\n",
            "  temp_df.at[j, 'flight_time'] = flight_hold[fh_count]\n",
            "<ipython-input-3-8a26ce10022a>:86: FutureWarning: Setting an item of incompatible dtype is deprecated and will raise an error in a future version of pandas. Value '0.10991692543029785' has dtype incompatible with int64, please explicitly cast to a compatible dtype first.\n",
            "  temp_df.at[j, 'flight_time'] = flight_hold[fh_count]\n"
          ]
        },
        {
          "name": "stdout",
          "output_type": "stream",
          "text": [
            "User 35\n",
            "Target Labels [0, 1, 0, 1]\n",
            "Predicted Labels [1 0 0 0]\n",
            "Accuracy: 0.25\n",
            "Fm: 0.2\n",
            "----------------------------\n"
          ]
        },
        {
          "name": "stderr",
          "output_type": "stream",
          "text": [
            "<ipython-input-3-8a26ce10022a>:86: FutureWarning: Setting an item of incompatible dtype is deprecated and will raise an error in a future version of pandas. Value '0.1219332218170166' has dtype incompatible with int64, please explicitly cast to a compatible dtype first.\n",
            "  temp_df.at[j, 'flight_time'] = flight_hold[fh_count]\n",
            "<ipython-input-3-8a26ce10022a>:86: FutureWarning: Setting an item of incompatible dtype is deprecated and will raise an error in a future version of pandas. Value '0.35562705993652344' has dtype incompatible with int64, please explicitly cast to a compatible dtype first.\n",
            "  temp_df.at[j, 'flight_time'] = flight_hold[fh_count]\n",
            "/usr/local/lib/python3.10/dist-packages/sklearn/metrics/_classification.py:1531: UndefinedMetricWarning: Precision is ill-defined and being set to 0.0 in labels with no predicted samples. Use `zero_division` parameter to control this behavior.\n",
            "  _warn_prf(average, modifier, f\"{metric.capitalize()} is\", len(result))\n",
            "/usr/local/lib/python3.10/dist-packages/sklearn/metrics/_classification.py:1531: UndefinedMetricWarning: Precision is ill-defined and being set to 0.0 in labels with no predicted samples. Use `zero_division` parameter to control this behavior.\n",
            "  _warn_prf(average, modifier, f\"{metric.capitalize()} is\", len(result))\n",
            "/usr/local/lib/python3.10/dist-packages/sklearn/metrics/_classification.py:1531: UndefinedMetricWarning: Precision is ill-defined and being set to 0.0 in labels with no predicted samples. Use `zero_division` parameter to control this behavior.\n",
            "  _warn_prf(average, modifier, f\"{metric.capitalize()} is\", len(result))\n"
          ]
        },
        {
          "name": "stdout",
          "output_type": "stream",
          "text": [
            "User 36\n",
            "Target Labels [0, 1, 0, 1]\n",
            "Predicted Labels [1 1 1 1]\n",
            "Accuracy: 0.5\n",
            "Fm: 0.3333333333333333\n",
            "----------------------------\n"
          ]
        },
        {
          "name": "stderr",
          "output_type": "stream",
          "text": [
            "<ipython-input-3-8a26ce10022a>:86: FutureWarning: Setting an item of incompatible dtype is deprecated and will raise an error in a future version of pandas. Value '0.4653513431549072' has dtype incompatible with int64, please explicitly cast to a compatible dtype first.\n",
            "  temp_df.at[j, 'flight_time'] = flight_hold[fh_count]\n",
            "<ipython-input-3-8a26ce10022a>:86: FutureWarning: Setting an item of incompatible dtype is deprecated and will raise an error in a future version of pandas. Value '0.3167126178741455' has dtype incompatible with int64, please explicitly cast to a compatible dtype first.\n",
            "  temp_df.at[j, 'flight_time'] = flight_hold[fh_count]\n"
          ]
        },
        {
          "name": "stdout",
          "output_type": "stream",
          "text": [
            "User 37\n",
            "Target Labels [0, 1, 0, 1]\n",
            "Predicted Labels [0 1 1 1]\n",
            "Accuracy: 0.75\n",
            "Fm: 0.7333333333333334\n",
            "----------------------------\n"
          ]
        },
        {
          "name": "stderr",
          "output_type": "stream",
          "text": [
            "<ipython-input-3-8a26ce10022a>:86: FutureWarning: Setting an item of incompatible dtype is deprecated and will raise an error in a future version of pandas. Value '0.19015121459960938' has dtype incompatible with int64, please explicitly cast to a compatible dtype first.\n",
            "  temp_df.at[j, 'flight_time'] = flight_hold[fh_count]\n",
            "<ipython-input-3-8a26ce10022a>:86: FutureWarning: Setting an item of incompatible dtype is deprecated and will raise an error in a future version of pandas. Value '0.4057347774505615' has dtype incompatible with int64, please explicitly cast to a compatible dtype first.\n",
            "  temp_df.at[j, 'flight_time'] = flight_hold[fh_count]\n"
          ]
        },
        {
          "name": "stdout",
          "output_type": "stream",
          "text": [
            "User 38\n",
            "Target Labels [0, 1, 0, 1]\n",
            "Predicted Labels [0 1 0 1]\n",
            "Accuracy: 1.0\n",
            "Fm: 1.0\n",
            "----------------------------\n"
          ]
        },
        {
          "name": "stderr",
          "output_type": "stream",
          "text": [
            "<ipython-input-3-8a26ce10022a>:86: FutureWarning: Setting an item of incompatible dtype is deprecated and will raise an error in a future version of pandas. Value '0.07579731941223145' has dtype incompatible with int64, please explicitly cast to a compatible dtype first.\n",
            "  temp_df.at[j, 'flight_time'] = flight_hold[fh_count]\n",
            "<ipython-input-3-8a26ce10022a>:86: FutureWarning: Setting an item of incompatible dtype is deprecated and will raise an error in a future version of pandas. Value '0.31242918968200684' has dtype incompatible with int64, please explicitly cast to a compatible dtype first.\n",
            "  temp_df.at[j, 'flight_time'] = flight_hold[fh_count]\n",
            "/usr/local/lib/python3.10/dist-packages/sklearn/metrics/_classification.py:1531: UndefinedMetricWarning: Precision is ill-defined and being set to 0.0 in labels with no predicted samples. Use `zero_division` parameter to control this behavior.\n",
            "  _warn_prf(average, modifier, f\"{metric.capitalize()} is\", len(result))\n",
            "/usr/local/lib/python3.10/dist-packages/sklearn/metrics/_classification.py:1531: UndefinedMetricWarning: Precision is ill-defined and being set to 0.0 in labels with no predicted samples. Use `zero_division` parameter to control this behavior.\n",
            "  _warn_prf(average, modifier, f\"{metric.capitalize()} is\", len(result))\n",
            "/usr/local/lib/python3.10/dist-packages/sklearn/metrics/_classification.py:1531: UndefinedMetricWarning: Precision is ill-defined and being set to 0.0 in labels with no predicted samples. Use `zero_division` parameter to control this behavior.\n",
            "  _warn_prf(average, modifier, f\"{metric.capitalize()} is\", len(result))\n"
          ]
        },
        {
          "name": "stdout",
          "output_type": "stream",
          "text": [
            "User 39\n",
            "Target Labels [0, 1, 0, 1]\n",
            "Predicted Labels [0 0 0 0]\n",
            "Accuracy: 0.5\n",
            "Fm: 0.3333333333333333\n",
            "----------------------------\n"
          ]
        },
        {
          "name": "stderr",
          "output_type": "stream",
          "text": [
            "<ipython-input-3-8a26ce10022a>:86: FutureWarning: Setting an item of incompatible dtype is deprecated and will raise an error in a future version of pandas. Value '0.12299203872680664' has dtype incompatible with int64, please explicitly cast to a compatible dtype first.\n",
            "  temp_df.at[j, 'flight_time'] = flight_hold[fh_count]\n",
            "<ipython-input-3-8a26ce10022a>:86: FutureWarning: Setting an item of incompatible dtype is deprecated and will raise an error in a future version of pandas. Value '0.2316608428955078' has dtype incompatible with int64, please explicitly cast to a compatible dtype first.\n",
            "  temp_df.at[j, 'flight_time'] = flight_hold[fh_count]\n"
          ]
        },
        {
          "name": "stdout",
          "output_type": "stream",
          "text": [
            "User 40\n",
            "Target Labels [0, 1, 0, 1]\n",
            "Predicted Labels [0 1 0 1]\n",
            "Accuracy: 1.0\n",
            "Fm: 1.0\n",
            "----------------------------\n"
          ]
        },
        {
          "name": "stderr",
          "output_type": "stream",
          "text": [
            "<ipython-input-3-8a26ce10022a>:86: FutureWarning: Setting an item of incompatible dtype is deprecated and will raise an error in a future version of pandas. Value '0.3674163818359375' has dtype incompatible with int64, please explicitly cast to a compatible dtype first.\n",
            "  temp_df.at[j, 'flight_time'] = flight_hold[fh_count]\n",
            "<ipython-input-3-8a26ce10022a>:86: FutureWarning: Setting an item of incompatible dtype is deprecated and will raise an error in a future version of pandas. Value '0.1463470458984375' has dtype incompatible with int64, please explicitly cast to a compatible dtype first.\n",
            "  temp_df.at[j, 'flight_time'] = flight_hold[fh_count]\n"
          ]
        },
        {
          "name": "stdout",
          "output_type": "stream",
          "text": [
            "User 41\n",
            "Target Labels [0, 1, 0, 1]\n",
            "Predicted Labels [0 1 0 1]\n",
            "Accuracy: 1.0\n",
            "Fm: 1.0\n",
            "----------------------------\n"
          ]
        },
        {
          "name": "stderr",
          "output_type": "stream",
          "text": [
            "<ipython-input-3-8a26ce10022a>:86: FutureWarning: Setting an item of incompatible dtype is deprecated and will raise an error in a future version of pandas. Value '0.37890195846557617' has dtype incompatible with int64, please explicitly cast to a compatible dtype first.\n",
            "  temp_df.at[j, 'flight_time'] = flight_hold[fh_count]\n",
            "<ipython-input-3-8a26ce10022a>:86: FutureWarning: Setting an item of incompatible dtype is deprecated and will raise an error in a future version of pandas. Value '0.29478955268859863' has dtype incompatible with int64, please explicitly cast to a compatible dtype first.\n",
            "  temp_df.at[j, 'flight_time'] = flight_hold[fh_count]\n"
          ]
        },
        {
          "name": "stdout",
          "output_type": "stream",
          "text": [
            "User 42\n",
            "Target Labels [0, 1, 0, 1]\n",
            "Predicted Labels [0 1 1 1]\n",
            "Accuracy: 0.75\n",
            "Fm: 0.7333333333333334\n",
            "----------------------------\n"
          ]
        },
        {
          "name": "stderr",
          "output_type": "stream",
          "text": [
            "<ipython-input-3-8a26ce10022a>:86: FutureWarning: Setting an item of incompatible dtype is deprecated and will raise an error in a future version of pandas. Value '1.7252004146575928' has dtype incompatible with int64, please explicitly cast to a compatible dtype first.\n",
            "  temp_df.at[j, 'flight_time'] = flight_hold[fh_count]\n",
            "<ipython-input-3-8a26ce10022a>:86: FutureWarning: Setting an item of incompatible dtype is deprecated and will raise an error in a future version of pandas. Value '0.47917962074279785' has dtype incompatible with int64, please explicitly cast to a compatible dtype first.\n",
            "  temp_df.at[j, 'flight_time'] = flight_hold[fh_count]\n"
          ]
        },
        {
          "name": "stdout",
          "output_type": "stream",
          "text": [
            "User 43\n",
            "Target Labels [0, 1, 0, 1]\n",
            "Predicted Labels [1 1 0 1]\n",
            "Accuracy: 0.75\n",
            "Fm: 0.7333333333333334\n",
            "----------------------------\n"
          ]
        },
        {
          "name": "stderr",
          "output_type": "stream",
          "text": [
            "<ipython-input-3-8a26ce10022a>:86: FutureWarning: Setting an item of incompatible dtype is deprecated and will raise an error in a future version of pandas. Value '0.1275620460510254' has dtype incompatible with int64, please explicitly cast to a compatible dtype first.\n",
            "  temp_df.at[j, 'flight_time'] = flight_hold[fh_count]\n",
            "<ipython-input-3-8a26ce10022a>:86: FutureWarning: Setting an item of incompatible dtype is deprecated and will raise an error in a future version of pandas. Value '0.36507344245910645' has dtype incompatible with int64, please explicitly cast to a compatible dtype first.\n",
            "  temp_df.at[j, 'flight_time'] = flight_hold[fh_count]\n"
          ]
        },
        {
          "name": "stdout",
          "output_type": "stream",
          "text": [
            "User 44\n",
            "Target Labels [0, 1, 0, 1]\n",
            "Predicted Labels [0 0 0 1]\n",
            "Accuracy: 0.75\n",
            "Fm: 0.7333333333333334\n",
            "----------------------------\n"
          ]
        },
        {
          "name": "stderr",
          "output_type": "stream",
          "text": [
            "<ipython-input-3-8a26ce10022a>:86: FutureWarning: Setting an item of incompatible dtype is deprecated and will raise an error in a future version of pandas. Value '0.20032191276550293' has dtype incompatible with int64, please explicitly cast to a compatible dtype first.\n",
            "  temp_df.at[j, 'flight_time'] = flight_hold[fh_count]\n",
            "<ipython-input-3-8a26ce10022a>:86: FutureWarning: Setting an item of incompatible dtype is deprecated and will raise an error in a future version of pandas. Value '0.5027735233306885' has dtype incompatible with int64, please explicitly cast to a compatible dtype first.\n",
            "  temp_df.at[j, 'flight_time'] = flight_hold[fh_count]\n"
          ]
        },
        {
          "name": "stdout",
          "output_type": "stream",
          "text": [
            "User 45\n",
            "Target Labels [0, 1, 0, 1]\n",
            "Predicted Labels [0 1 0 1]\n",
            "Accuracy: 1.0\n",
            "Fm: 1.0\n",
            "----------------------------\n"
          ]
        },
        {
          "name": "stderr",
          "output_type": "stream",
          "text": [
            "<ipython-input-3-8a26ce10022a>:86: FutureWarning: Setting an item of incompatible dtype is deprecated and will raise an error in a future version of pandas. Value '0.5629923343658447' has dtype incompatible with int64, please explicitly cast to a compatible dtype first.\n",
            "  temp_df.at[j, 'flight_time'] = flight_hold[fh_count]\n",
            "<ipython-input-3-8a26ce10022a>:86: FutureWarning: Setting an item of incompatible dtype is deprecated and will raise an error in a future version of pandas. Value '0.05055880546569824' has dtype incompatible with int64, please explicitly cast to a compatible dtype first.\n",
            "  temp_df.at[j, 'flight_time'] = flight_hold[fh_count]\n"
          ]
        },
        {
          "name": "stdout",
          "output_type": "stream",
          "text": [
            "User 46\n",
            "Target Labels [0, 1, 0, 1]\n",
            "Predicted Labels [0 0 1 1]\n",
            "Accuracy: 0.5\n",
            "Fm: 0.5\n",
            "----------------------------\n"
          ]
        },
        {
          "name": "stderr",
          "output_type": "stream",
          "text": [
            "<ipython-input-3-8a26ce10022a>:86: FutureWarning: Setting an item of incompatible dtype is deprecated and will raise an error in a future version of pandas. Value '0.37174344062805176' has dtype incompatible with int64, please explicitly cast to a compatible dtype first.\n",
            "  temp_df.at[j, 'flight_time'] = flight_hold[fh_count]\n",
            "<ipython-input-3-8a26ce10022a>:86: FutureWarning: Setting an item of incompatible dtype is deprecated and will raise an error in a future version of pandas. Value '0.13625764846801758' has dtype incompatible with int64, please explicitly cast to a compatible dtype first.\n",
            "  temp_df.at[j, 'flight_time'] = flight_hold[fh_count]\n"
          ]
        },
        {
          "name": "stdout",
          "output_type": "stream",
          "text": [
            "User 47\n",
            "Target Labels [0, 1, 0, 1]\n",
            "Predicted Labels [0 0 0 1]\n",
            "Accuracy: 0.75\n",
            "Fm: 0.7333333333333334\n",
            "----------------------------\n"
          ]
        },
        {
          "name": "stderr",
          "output_type": "stream",
          "text": [
            "<ipython-input-3-8a26ce10022a>:86: FutureWarning: Setting an item of incompatible dtype is deprecated and will raise an error in a future version of pandas. Value '0.8200299739837646' has dtype incompatible with int64, please explicitly cast to a compatible dtype first.\n",
            "  temp_df.at[j, 'flight_time'] = flight_hold[fh_count]\n",
            "<ipython-input-3-8a26ce10022a>:86: FutureWarning: Setting an item of incompatible dtype is deprecated and will raise an error in a future version of pandas. Value '0.13542437553405762' has dtype incompatible with int64, please explicitly cast to a compatible dtype first.\n",
            "  temp_df.at[j, 'flight_time'] = flight_hold[fh_count]\n"
          ]
        },
        {
          "name": "stdout",
          "output_type": "stream",
          "text": [
            "User 48\n",
            "Target Labels [0, 1, 0, 1]\n",
            "Predicted Labels [0 1 0 1]\n",
            "Accuracy: 1.0\n",
            "Fm: 1.0\n",
            "----------------------------\n"
          ]
        },
        {
          "name": "stderr",
          "output_type": "stream",
          "text": [
            "<ipython-input-3-8a26ce10022a>:86: FutureWarning: Setting an item of incompatible dtype is deprecated and will raise an error in a future version of pandas. Value '0.9999668598175049' has dtype incompatible with int64, please explicitly cast to a compatible dtype first.\n",
            "  temp_df.at[j, 'flight_time'] = flight_hold[fh_count]\n",
            "<ipython-input-3-8a26ce10022a>:86: FutureWarning: Setting an item of incompatible dtype is deprecated and will raise an error in a future version of pandas. Value '0.12293100357055664' has dtype incompatible with int64, please explicitly cast to a compatible dtype first.\n",
            "  temp_df.at[j, 'flight_time'] = flight_hold[fh_count]\n"
          ]
        },
        {
          "name": "stdout",
          "output_type": "stream",
          "text": [
            "User 49\n",
            "Target Labels [0, 1, 0, 1]\n",
            "Predicted Labels [0 1 0 0]\n",
            "Accuracy: 0.75\n",
            "Fm: 0.7333333333333334\n",
            "----------------------------\n"
          ]
        },
        {
          "name": "stderr",
          "output_type": "stream",
          "text": [
            "<ipython-input-3-8a26ce10022a>:86: FutureWarning: Setting an item of incompatible dtype is deprecated and will raise an error in a future version of pandas. Value '4.591892242431641' has dtype incompatible with int64, please explicitly cast to a compatible dtype first.\n",
            "  temp_df.at[j, 'flight_time'] = flight_hold[fh_count]\n",
            "<ipython-input-3-8a26ce10022a>:86: FutureWarning: Setting an item of incompatible dtype is deprecated and will raise an error in a future version of pandas. Value '0.4898402690887451' has dtype incompatible with int64, please explicitly cast to a compatible dtype first.\n",
            "  temp_df.at[j, 'flight_time'] = flight_hold[fh_count]\n"
          ]
        },
        {
          "name": "stdout",
          "output_type": "stream",
          "text": [
            "User 50\n",
            "Target Labels [0, 1, 0, 1]\n",
            "Predicted Labels [0 1 0 0]\n",
            "Accuracy: 0.75\n",
            "Fm: 0.7333333333333334\n",
            "----------------------------\n"
          ]
        },
        {
          "name": "stderr",
          "output_type": "stream",
          "text": [
            "<ipython-input-3-8a26ce10022a>:86: FutureWarning: Setting an item of incompatible dtype is deprecated and will raise an error in a future version of pandas. Value '1.0284154415130615' has dtype incompatible with int64, please explicitly cast to a compatible dtype first.\n",
            "  temp_df.at[j, 'flight_time'] = flight_hold[fh_count]\n",
            "<ipython-input-3-8a26ce10022a>:86: FutureWarning: Setting an item of incompatible dtype is deprecated and will raise an error in a future version of pandas. Value '0.06281089782714844' has dtype incompatible with int64, please explicitly cast to a compatible dtype first.\n",
            "  temp_df.at[j, 'flight_time'] = flight_hold[fh_count]\n"
          ]
        },
        {
          "name": "stdout",
          "output_type": "stream",
          "text": [
            "User 51\n",
            "Target Labels [0, 1, 0, 1]\n",
            "Predicted Labels [1 1 0 1]\n",
            "Accuracy: 0.75\n",
            "Fm: 0.7333333333333334\n",
            "----------------------------\n"
          ]
        },
        {
          "name": "stderr",
          "output_type": "stream",
          "text": [
            "<ipython-input-3-8a26ce10022a>:86: FutureWarning: Setting an item of incompatible dtype is deprecated and will raise an error in a future version of pandas. Value '0.21469616889953613' has dtype incompatible with int64, please explicitly cast to a compatible dtype first.\n",
            "  temp_df.at[j, 'flight_time'] = flight_hold[fh_count]\n",
            "<ipython-input-3-8a26ce10022a>:86: FutureWarning: Setting an item of incompatible dtype is deprecated and will raise an error in a future version of pandas. Value '0.27518439292907715' has dtype incompatible with int64, please explicitly cast to a compatible dtype first.\n",
            "  temp_df.at[j, 'flight_time'] = flight_hold[fh_count]\n"
          ]
        },
        {
          "name": "stdout",
          "output_type": "stream",
          "text": [
            "User 52\n",
            "Target Labels [0, 1, 0, 1]\n",
            "Predicted Labels [1 1 0 1]\n",
            "Accuracy: 0.75\n",
            "Fm: 0.7333333333333334\n",
            "----------------------------\n"
          ]
        },
        {
          "name": "stderr",
          "output_type": "stream",
          "text": [
            "<ipython-input-3-8a26ce10022a>:86: FutureWarning: Setting an item of incompatible dtype is deprecated and will raise an error in a future version of pandas. Value '0.04952883720397949' has dtype incompatible with int64, please explicitly cast to a compatible dtype first.\n",
            "  temp_df.at[j, 'flight_time'] = flight_hold[fh_count]\n",
            "<ipython-input-3-8a26ce10022a>:86: FutureWarning: Setting an item of incompatible dtype is deprecated and will raise an error in a future version of pandas. Value '0.061274051666259766' has dtype incompatible with int64, please explicitly cast to a compatible dtype first.\n",
            "  temp_df.at[j, 'flight_time'] = flight_hold[fh_count]\n"
          ]
        },
        {
          "name": "stdout",
          "output_type": "stream",
          "text": [
            "User 53\n",
            "Target Labels [0, 1, 0, 1]\n",
            "Predicted Labels [0 1 1 1]\n",
            "Accuracy: 0.75\n",
            "Fm: 0.7333333333333334\n",
            "----------------------------\n"
          ]
        },
        {
          "name": "stderr",
          "output_type": "stream",
          "text": [
            "<ipython-input-3-8a26ce10022a>:86: FutureWarning: Setting an item of incompatible dtype is deprecated and will raise an error in a future version of pandas. Value '0.6493418216705322' has dtype incompatible with int64, please explicitly cast to a compatible dtype first.\n",
            "  temp_df.at[j, 'flight_time'] = flight_hold[fh_count]\n",
            "<ipython-input-3-8a26ce10022a>:86: FutureWarning: Setting an item of incompatible dtype is deprecated and will raise an error in a future version of pandas. Value '0.11600923538208008' has dtype incompatible with int64, please explicitly cast to a compatible dtype first.\n",
            "  temp_df.at[j, 'flight_time'] = flight_hold[fh_count]\n"
          ]
        },
        {
          "name": "stdout",
          "output_type": "stream",
          "text": [
            "User 54\n",
            "Target Labels [0, 1, 0, 1]\n",
            "Predicted Labels [0 1 0 1]\n",
            "Accuracy: 1.0\n",
            "Fm: 1.0\n",
            "----------------------------\n"
          ]
        },
        {
          "name": "stderr",
          "output_type": "stream",
          "text": [
            "<ipython-input-3-8a26ce10022a>:86: FutureWarning: Setting an item of incompatible dtype is deprecated and will raise an error in a future version of pandas. Value '0.7238674163818359' has dtype incompatible with int64, please explicitly cast to a compatible dtype first.\n",
            "  temp_df.at[j, 'flight_time'] = flight_hold[fh_count]\n",
            "<ipython-input-3-8a26ce10022a>:86: FutureWarning: Setting an item of incompatible dtype is deprecated and will raise an error in a future version of pandas. Value '0.5130228996276855' has dtype incompatible with int64, please explicitly cast to a compatible dtype first.\n",
            "  temp_df.at[j, 'flight_time'] = flight_hold[fh_count]\n"
          ]
        },
        {
          "name": "stdout",
          "output_type": "stream",
          "text": [
            "User 55\n",
            "Target Labels [0, 1, 0, 1]\n",
            "Predicted Labels [0 1 0 1]\n",
            "Accuracy: 1.0\n",
            "Fm: 1.0\n",
            "----------------------------\n"
          ]
        },
        {
          "name": "stderr",
          "output_type": "stream",
          "text": [
            "<ipython-input-3-8a26ce10022a>:86: FutureWarning: Setting an item of incompatible dtype is deprecated and will raise an error in a future version of pandas. Value '1.104879379272461' has dtype incompatible with int64, please explicitly cast to a compatible dtype first.\n",
            "  temp_df.at[j, 'flight_time'] = flight_hold[fh_count]\n",
            "<ipython-input-3-8a26ce10022a>:86: FutureWarning: Setting an item of incompatible dtype is deprecated and will raise an error in a future version of pandas. Value '3.475451707839966' has dtype incompatible with int64, please explicitly cast to a compatible dtype first.\n",
            "  temp_df.at[j, 'flight_time'] = flight_hold[fh_count]\n"
          ]
        },
        {
          "name": "stdout",
          "output_type": "stream",
          "text": [
            "User 56\n",
            "Target Labels [0, 1, 0, 1]\n",
            "Predicted Labels [1 1 0 0]\n",
            "Accuracy: 0.5\n",
            "Fm: 0.5\n",
            "----------------------------\n"
          ]
        },
        {
          "name": "stderr",
          "output_type": "stream",
          "text": [
            "<ipython-input-3-8a26ce10022a>:86: FutureWarning: Setting an item of incompatible dtype is deprecated and will raise an error in a future version of pandas. Value '4.046738147735596' has dtype incompatible with int64, please explicitly cast to a compatible dtype first.\n",
            "  temp_df.at[j, 'flight_time'] = flight_hold[fh_count]\n",
            "<ipython-input-3-8a26ce10022a>:86: FutureWarning: Setting an item of incompatible dtype is deprecated and will raise an error in a future version of pandas. Value '0.6852021217346191' has dtype incompatible with int64, please explicitly cast to a compatible dtype first.\n",
            "  temp_df.at[j, 'flight_time'] = flight_hold[fh_count]\n"
          ]
        },
        {
          "name": "stdout",
          "output_type": "stream",
          "text": [
            "User 57\n",
            "Target Labels [0, 1, 0, 1]\n",
            "Predicted Labels [0 1 0 1]\n",
            "Accuracy: 1.0\n",
            "Fm: 1.0\n",
            "----------------------------\n"
          ]
        },
        {
          "name": "stderr",
          "output_type": "stream",
          "text": [
            "<ipython-input-3-8a26ce10022a>:86: FutureWarning: Setting an item of incompatible dtype is deprecated and will raise an error in a future version of pandas. Value '0.1967623233795166' has dtype incompatible with int64, please explicitly cast to a compatible dtype first.\n",
            "  temp_df.at[j, 'flight_time'] = flight_hold[fh_count]\n",
            "<ipython-input-3-8a26ce10022a>:86: FutureWarning: Setting an item of incompatible dtype is deprecated and will raise an error in a future version of pandas. Value '0.8153324127197266' has dtype incompatible with int64, please explicitly cast to a compatible dtype first.\n",
            "  temp_df.at[j, 'flight_time'] = flight_hold[fh_count]\n"
          ]
        },
        {
          "name": "stdout",
          "output_type": "stream",
          "text": [
            "User 58\n",
            "Target Labels [0, 1, 0, 1]\n",
            "Predicted Labels [0 0 0 1]\n",
            "Accuracy: 0.75\n",
            "Fm: 0.7333333333333334\n",
            "----------------------------\n"
          ]
        },
        {
          "name": "stderr",
          "output_type": "stream",
          "text": [
            "<ipython-input-3-8a26ce10022a>:86: FutureWarning: Setting an item of incompatible dtype is deprecated and will raise an error in a future version of pandas. Value '0.9516057968139648' has dtype incompatible with int64, please explicitly cast to a compatible dtype first.\n",
            "  temp_df.at[j, 'flight_time'] = flight_hold[fh_count]\n",
            "<ipython-input-3-8a26ce10022a>:86: FutureWarning: Setting an item of incompatible dtype is deprecated and will raise an error in a future version of pandas. Value '0.1844491958618164' has dtype incompatible with int64, please explicitly cast to a compatible dtype first.\n",
            "  temp_df.at[j, 'flight_time'] = flight_hold[fh_count]\n"
          ]
        },
        {
          "name": "stdout",
          "output_type": "stream",
          "text": [
            "User 59\n",
            "Target Labels [0, 1, 0, 1]\n",
            "Predicted Labels [1 0 1 1]\n",
            "Accuracy: 0.25\n",
            "Fm: 0.2\n",
            "----------------------------\n"
          ]
        },
        {
          "name": "stderr",
          "output_type": "stream",
          "text": [
            "<ipython-input-3-8a26ce10022a>:86: FutureWarning: Setting an item of incompatible dtype is deprecated and will raise an error in a future version of pandas. Value '0.06059575080871582' has dtype incompatible with int64, please explicitly cast to a compatible dtype first.\n",
            "  temp_df.at[j, 'flight_time'] = flight_hold[fh_count]\n",
            "<ipython-input-3-8a26ce10022a>:86: FutureWarning: Setting an item of incompatible dtype is deprecated and will raise an error in a future version of pandas. Value '0.8478474617004395' has dtype incompatible with int64, please explicitly cast to a compatible dtype first.\n",
            "  temp_df.at[j, 'flight_time'] = flight_hold[fh_count]\n"
          ]
        },
        {
          "name": "stdout",
          "output_type": "stream",
          "text": [
            "User 60\n",
            "Target Labels [0, 1, 0, 1]\n",
            "Predicted Labels [0 1 0 1]\n",
            "Accuracy: 1.0\n",
            "Fm: 1.0\n",
            "----------------------------\n"
          ]
        },
        {
          "name": "stderr",
          "output_type": "stream",
          "text": [
            "<ipython-input-3-8a26ce10022a>:86: FutureWarning: Setting an item of incompatible dtype is deprecated and will raise an error in a future version of pandas. Value '0.7394251823425293' has dtype incompatible with int64, please explicitly cast to a compatible dtype first.\n",
            "  temp_df.at[j, 'flight_time'] = flight_hold[fh_count]\n",
            "<ipython-input-3-8a26ce10022a>:86: FutureWarning: Setting an item of incompatible dtype is deprecated and will raise an error in a future version of pandas. Value '8.456364154815674' has dtype incompatible with int64, please explicitly cast to a compatible dtype first.\n",
            "  temp_df.at[j, 'flight_time'] = flight_hold[fh_count]\n"
          ]
        },
        {
          "name": "stdout",
          "output_type": "stream",
          "text": [
            "User 61\n",
            "Target Labels [0, 1, 0, 1]\n",
            "Predicted Labels [0 1 0 1]\n",
            "Accuracy: 1.0\n",
            "Fm: 1.0\n",
            "----------------------------\n"
          ]
        },
        {
          "name": "stderr",
          "output_type": "stream",
          "text": [
            "<ipython-input-3-8a26ce10022a>:86: FutureWarning: Setting an item of incompatible dtype is deprecated and will raise an error in a future version of pandas. Value '0.5692200660705566' has dtype incompatible with int64, please explicitly cast to a compatible dtype first.\n",
            "  temp_df.at[j, 'flight_time'] = flight_hold[fh_count]\n",
            "<ipython-input-3-8a26ce10022a>:86: FutureWarning: Setting an item of incompatible dtype is deprecated and will raise an error in a future version of pandas. Value '0.20771098136901855' has dtype incompatible with int64, please explicitly cast to a compatible dtype first.\n",
            "  temp_df.at[j, 'flight_time'] = flight_hold[fh_count]\n"
          ]
        },
        {
          "name": "stdout",
          "output_type": "stream",
          "text": [
            "User 62\n",
            "Target Labels [0, 1, 0, 1]\n",
            "Predicted Labels [1 1 0 1]\n",
            "Accuracy: 0.75\n",
            "Fm: 0.7333333333333334\n",
            "----------------------------\n"
          ]
        },
        {
          "name": "stderr",
          "output_type": "stream",
          "text": [
            "<ipython-input-3-8a26ce10022a>:86: FutureWarning: Setting an item of incompatible dtype is deprecated and will raise an error in a future version of pandas. Value '0.5913362503051758' has dtype incompatible with int64, please explicitly cast to a compatible dtype first.\n",
            "  temp_df.at[j, 'flight_time'] = flight_hold[fh_count]\n",
            "<ipython-input-3-8a26ce10022a>:86: FutureWarning: Setting an item of incompatible dtype is deprecated and will raise an error in a future version of pandas. Value '0.23249220848083496' has dtype incompatible with int64, please explicitly cast to a compatible dtype first.\n",
            "  temp_df.at[j, 'flight_time'] = flight_hold[fh_count]\n"
          ]
        },
        {
          "name": "stdout",
          "output_type": "stream",
          "text": [
            "User 63\n",
            "Target Labels [0, 1, 0, 1]\n",
            "Predicted Labels [0 1 0 0]\n",
            "Accuracy: 0.75\n",
            "Fm: 0.7333333333333334\n",
            "----------------------------\n"
          ]
        },
        {
          "name": "stderr",
          "output_type": "stream",
          "text": [
            "<ipython-input-3-8a26ce10022a>:86: FutureWarning: Setting an item of incompatible dtype is deprecated and will raise an error in a future version of pandas. Value '1.441004753112793' has dtype incompatible with int64, please explicitly cast to a compatible dtype first.\n",
            "  temp_df.at[j, 'flight_time'] = flight_hold[fh_count]\n",
            "<ipython-input-3-8a26ce10022a>:86: FutureWarning: Setting an item of incompatible dtype is deprecated and will raise an error in a future version of pandas. Value '0.5392920970916748' has dtype incompatible with int64, please explicitly cast to a compatible dtype first.\n",
            "  temp_df.at[j, 'flight_time'] = flight_hold[fh_count]\n"
          ]
        },
        {
          "name": "stdout",
          "output_type": "stream",
          "text": [
            "User 64\n",
            "Target Labels [0, 1, 0, 1]\n",
            "Predicted Labels [0 1 0 1]\n",
            "Accuracy: 1.0\n",
            "Fm: 1.0\n",
            "----------------------------\n"
          ]
        },
        {
          "name": "stderr",
          "output_type": "stream",
          "text": [
            "<ipython-input-3-8a26ce10022a>:86: FutureWarning: Setting an item of incompatible dtype is deprecated and will raise an error in a future version of pandas. Value '1.83546781539917' has dtype incompatible with int64, please explicitly cast to a compatible dtype first.\n",
            "  temp_df.at[j, 'flight_time'] = flight_hold[fh_count]\n",
            "<ipython-input-3-8a26ce10022a>:86: FutureWarning: Setting an item of incompatible dtype is deprecated and will raise an error in a future version of pandas. Value '0.48987627029418945' has dtype incompatible with int64, please explicitly cast to a compatible dtype first.\n",
            "  temp_df.at[j, 'flight_time'] = flight_hold[fh_count]\n"
          ]
        },
        {
          "name": "stdout",
          "output_type": "stream",
          "text": [
            "User 65\n",
            "Target Labels [0, 1, 0, 1]\n",
            "Predicted Labels [0 1 0 1]\n",
            "Accuracy: 1.0\n",
            "Fm: 1.0\n",
            "----------------------------\n"
          ]
        },
        {
          "name": "stderr",
          "output_type": "stream",
          "text": [
            "<ipython-input-3-8a26ce10022a>:86: FutureWarning: Setting an item of incompatible dtype is deprecated and will raise an error in a future version of pandas. Value '0.9205794334411621' has dtype incompatible with int64, please explicitly cast to a compatible dtype first.\n",
            "  temp_df.at[j, 'flight_time'] = flight_hold[fh_count]\n",
            "<ipython-input-3-8a26ce10022a>:86: FutureWarning: Setting an item of incompatible dtype is deprecated and will raise an error in a future version of pandas. Value '0.011719226837158203' has dtype incompatible with int64, please explicitly cast to a compatible dtype first.\n",
            "  temp_df.at[j, 'flight_time'] = flight_hold[fh_count]\n"
          ]
        },
        {
          "name": "stdout",
          "output_type": "stream",
          "text": [
            "User 66\n",
            "Target Labels [0, 1, 0, 1]\n",
            "Predicted Labels [1 1 0 0]\n",
            "Accuracy: 0.5\n",
            "Fm: 0.5\n",
            "----------------------------\n"
          ]
        },
        {
          "name": "stderr",
          "output_type": "stream",
          "text": [
            "<ipython-input-3-8a26ce10022a>:86: FutureWarning: Setting an item of incompatible dtype is deprecated and will raise an error in a future version of pandas. Value '0.15563464164733887' has dtype incompatible with int64, please explicitly cast to a compatible dtype first.\n",
            "  temp_df.at[j, 'flight_time'] = flight_hold[fh_count]\n",
            "<ipython-input-3-8a26ce10022a>:86: FutureWarning: Setting an item of incompatible dtype is deprecated and will raise an error in a future version of pandas. Value '0.16076445579528809' has dtype incompatible with int64, please explicitly cast to a compatible dtype first.\n",
            "  temp_df.at[j, 'flight_time'] = flight_hold[fh_count]\n"
          ]
        },
        {
          "name": "stdout",
          "output_type": "stream",
          "text": [
            "User 67\n",
            "Target Labels [0, 1, 0, 1]\n",
            "Predicted Labels [0 1 0 1]\n",
            "Accuracy: 1.0\n",
            "Fm: 1.0\n",
            "----------------------------\n"
          ]
        },
        {
          "name": "stderr",
          "output_type": "stream",
          "text": [
            "<ipython-input-3-8a26ce10022a>:86: FutureWarning: Setting an item of incompatible dtype is deprecated and will raise an error in a future version of pandas. Value '0.31180667877197266' has dtype incompatible with int64, please explicitly cast to a compatible dtype first.\n",
            "  temp_df.at[j, 'flight_time'] = flight_hold[fh_count]\n",
            "<ipython-input-3-8a26ce10022a>:86: FutureWarning: Setting an item of incompatible dtype is deprecated and will raise an error in a future version of pandas. Value '0.7324285507202148' has dtype incompatible with int64, please explicitly cast to a compatible dtype first.\n",
            "  temp_df.at[j, 'flight_time'] = flight_hold[fh_count]\n"
          ]
        },
        {
          "name": "stdout",
          "output_type": "stream",
          "text": [
            "User 68\n",
            "Target Labels [0, 1, 0, 1]\n",
            "Predicted Labels [0 1 0 1]\n",
            "Accuracy: 1.0\n",
            "Fm: 1.0\n",
            "----------------------------\n"
          ]
        },
        {
          "name": "stderr",
          "output_type": "stream",
          "text": [
            "<ipython-input-3-8a26ce10022a>:86: FutureWarning: Setting an item of incompatible dtype is deprecated and will raise an error in a future version of pandas. Value '0.15170836448669434' has dtype incompatible with int64, please explicitly cast to a compatible dtype first.\n",
            "  temp_df.at[j, 'flight_time'] = flight_hold[fh_count]\n",
            "<ipython-input-3-8a26ce10022a>:86: FutureWarning: Setting an item of incompatible dtype is deprecated and will raise an error in a future version of pandas. Value '0.13246917724609375' has dtype incompatible with int64, please explicitly cast to a compatible dtype first.\n",
            "  temp_df.at[j, 'flight_time'] = flight_hold[fh_count]\n"
          ]
        },
        {
          "name": "stdout",
          "output_type": "stream",
          "text": [
            "User 69\n",
            "Target Labels [0, 1, 0, 1]\n",
            "Predicted Labels [0 1 1 1]\n",
            "Accuracy: 0.75\n",
            "Fm: 0.7333333333333334\n",
            "----------------------------\n"
          ]
        },
        {
          "name": "stderr",
          "output_type": "stream",
          "text": [
            "<ipython-input-3-8a26ce10022a>:86: FutureWarning: Setting an item of incompatible dtype is deprecated and will raise an error in a future version of pandas. Value '0.08758139610290527' has dtype incompatible with int64, please explicitly cast to a compatible dtype first.\n",
            "  temp_df.at[j, 'flight_time'] = flight_hold[fh_count]\n",
            "<ipython-input-3-8a26ce10022a>:86: FutureWarning: Setting an item of incompatible dtype is deprecated and will raise an error in a future version of pandas. Value '0.21863317489624023' has dtype incompatible with int64, please explicitly cast to a compatible dtype first.\n",
            "  temp_df.at[j, 'flight_time'] = flight_hold[fh_count]\n"
          ]
        },
        {
          "name": "stdout",
          "output_type": "stream",
          "text": [
            "User 70\n",
            "Target Labels [0, 1, 0, 1]\n",
            "Predicted Labels [0 0 0 1]\n",
            "Accuracy: 0.75\n",
            "Fm: 0.7333333333333334\n",
            "----------------------------\n"
          ]
        },
        {
          "name": "stderr",
          "output_type": "stream",
          "text": [
            "<ipython-input-3-8a26ce10022a>:86: FutureWarning: Setting an item of incompatible dtype is deprecated and will raise an error in a future version of pandas. Value '0.03696608543395996' has dtype incompatible with int64, please explicitly cast to a compatible dtype first.\n",
            "  temp_df.at[j, 'flight_time'] = flight_hold[fh_count]\n",
            "<ipython-input-3-8a26ce10022a>:86: FutureWarning: Setting an item of incompatible dtype is deprecated and will raise an error in a future version of pandas. Value '0.13496160507202148' has dtype incompatible with int64, please explicitly cast to a compatible dtype first.\n",
            "  temp_df.at[j, 'flight_time'] = flight_hold[fh_count]\n"
          ]
        },
        {
          "name": "stdout",
          "output_type": "stream",
          "text": [
            "User 71\n",
            "Target Labels [0, 1, 0, 1]\n",
            "Predicted Labels [1 0 0 1]\n",
            "Accuracy: 0.5\n",
            "Fm: 0.5\n",
            "----------------------------\n"
          ]
        },
        {
          "name": "stderr",
          "output_type": "stream",
          "text": [
            "<ipython-input-3-8a26ce10022a>:86: FutureWarning: Setting an item of incompatible dtype is deprecated and will raise an error in a future version of pandas. Value '0.1363363265991211' has dtype incompatible with int64, please explicitly cast to a compatible dtype first.\n",
            "  temp_df.at[j, 'flight_time'] = flight_hold[fh_count]\n",
            "<ipython-input-3-8a26ce10022a>:86: FutureWarning: Setting an item of incompatible dtype is deprecated and will raise an error in a future version of pandas. Value '0.25445985794067383' has dtype incompatible with int64, please explicitly cast to a compatible dtype first.\n",
            "  temp_df.at[j, 'flight_time'] = flight_hold[fh_count]\n"
          ]
        },
        {
          "name": "stdout",
          "output_type": "stream",
          "text": [
            "User 72\n",
            "Target Labels [0, 1, 0, 1]\n",
            "Predicted Labels [0 0 0 1]\n",
            "Accuracy: 0.75\n",
            "Fm: 0.7333333333333334\n",
            "----------------------------\n"
          ]
        },
        {
          "name": "stderr",
          "output_type": "stream",
          "text": [
            "<ipython-input-3-8a26ce10022a>:86: FutureWarning: Setting an item of incompatible dtype is deprecated and will raise an error in a future version of pandas. Value '2.850924253463745' has dtype incompatible with int64, please explicitly cast to a compatible dtype first.\n",
            "  temp_df.at[j, 'flight_time'] = flight_hold[fh_count]\n",
            "<ipython-input-3-8a26ce10022a>:86: FutureWarning: Setting an item of incompatible dtype is deprecated and will raise an error in a future version of pandas. Value '0.07369208335876465' has dtype incompatible with int64, please explicitly cast to a compatible dtype first.\n",
            "  temp_df.at[j, 'flight_time'] = flight_hold[fh_count]\n"
          ]
        },
        {
          "name": "stdout",
          "output_type": "stream",
          "text": [
            "User 73\n",
            "Target Labels [0, 1, 0, 1]\n",
            "Predicted Labels [0 1 0 1]\n",
            "Accuracy: 1.0\n",
            "Fm: 1.0\n",
            "----------------------------\n"
          ]
        },
        {
          "name": "stderr",
          "output_type": "stream",
          "text": [
            "<ipython-input-3-8a26ce10022a>:86: FutureWarning: Setting an item of incompatible dtype is deprecated and will raise an error in a future version of pandas. Value '0.1456916332244873' has dtype incompatible with int64, please explicitly cast to a compatible dtype first.\n",
            "  temp_df.at[j, 'flight_time'] = flight_hold[fh_count]\n",
            "<ipython-input-3-8a26ce10022a>:86: FutureWarning: Setting an item of incompatible dtype is deprecated and will raise an error in a future version of pandas. Value '0.23178458213806152' has dtype incompatible with int64, please explicitly cast to a compatible dtype first.\n",
            "  temp_df.at[j, 'flight_time'] = flight_hold[fh_count]\n"
          ]
        },
        {
          "name": "stdout",
          "output_type": "stream",
          "text": [
            "User 74\n",
            "Target Labels [0, 1, 0, 1]\n",
            "Predicted Labels [0 1 1 1]\n",
            "Accuracy: 0.75\n",
            "Fm: 0.7333333333333334\n",
            "----------------------------\n"
          ]
        },
        {
          "name": "stderr",
          "output_type": "stream",
          "text": [
            "<ipython-input-3-8a26ce10022a>:86: FutureWarning: Setting an item of incompatible dtype is deprecated and will raise an error in a future version of pandas. Value '0.28583669662475586' has dtype incompatible with int64, please explicitly cast to a compatible dtype first.\n",
            "  temp_df.at[j, 'flight_time'] = flight_hold[fh_count]\n",
            "<ipython-input-3-8a26ce10022a>:86: FutureWarning: Setting an item of incompatible dtype is deprecated and will raise an error in a future version of pandas. Value '0.23052191734313965' has dtype incompatible with int64, please explicitly cast to a compatible dtype first.\n",
            "  temp_df.at[j, 'flight_time'] = flight_hold[fh_count]\n",
            "/usr/local/lib/python3.10/dist-packages/sklearn/metrics/_classification.py:1531: UndefinedMetricWarning: Precision is ill-defined and being set to 0.0 in labels with no predicted samples. Use `zero_division` parameter to control this behavior.\n",
            "  _warn_prf(average, modifier, f\"{metric.capitalize()} is\", len(result))\n",
            "/usr/local/lib/python3.10/dist-packages/sklearn/metrics/_classification.py:1531: UndefinedMetricWarning: Precision is ill-defined and being set to 0.0 in labels with no predicted samples. Use `zero_division` parameter to control this behavior.\n",
            "  _warn_prf(average, modifier, f\"{metric.capitalize()} is\", len(result))\n",
            "/usr/local/lib/python3.10/dist-packages/sklearn/metrics/_classification.py:1531: UndefinedMetricWarning: Precision is ill-defined and being set to 0.0 in labels with no predicted samples. Use `zero_division` parameter to control this behavior.\n",
            "  _warn_prf(average, modifier, f\"{metric.capitalize()} is\", len(result))\n"
          ]
        },
        {
          "name": "stdout",
          "output_type": "stream",
          "text": [
            "User 75\n",
            "Target Labels [0, 1, 0, 1]\n",
            "Predicted Labels [1 1 1 1]\n",
            "Accuracy: 0.5\n",
            "Fm: 0.3333333333333333\n",
            "----------------------------\n"
          ]
        },
        {
          "name": "stderr",
          "output_type": "stream",
          "text": [
            "<ipython-input-3-8a26ce10022a>:86: FutureWarning: Setting an item of incompatible dtype is deprecated and will raise an error in a future version of pandas. Value '0.03721141815185547' has dtype incompatible with int64, please explicitly cast to a compatible dtype first.\n",
            "  temp_df.at[j, 'flight_time'] = flight_hold[fh_count]\n",
            "<ipython-input-3-8a26ce10022a>:86: FutureWarning: Setting an item of incompatible dtype is deprecated and will raise an error in a future version of pandas. Value '0.2305440902709961' has dtype incompatible with int64, please explicitly cast to a compatible dtype first.\n",
            "  temp_df.at[j, 'flight_time'] = flight_hold[fh_count]\n"
          ]
        },
        {
          "name": "stdout",
          "output_type": "stream",
          "text": [
            "User 76\n",
            "Target Labels [0, 1, 0, 1]\n",
            "Predicted Labels [1 1 0 1]\n",
            "Accuracy: 0.75\n",
            "Fm: 0.7333333333333334\n",
            "----------------------------\n"
          ]
        },
        {
          "name": "stderr",
          "output_type": "stream",
          "text": [
            "<ipython-input-3-8a26ce10022a>:86: FutureWarning: Setting an item of incompatible dtype is deprecated and will raise an error in a future version of pandas. Value '0.31116700172424316' has dtype incompatible with int64, please explicitly cast to a compatible dtype first.\n",
            "  temp_df.at[j, 'flight_time'] = flight_hold[fh_count]\n",
            "<ipython-input-3-8a26ce10022a>:86: FutureWarning: Setting an item of incompatible dtype is deprecated and will raise an error in a future version of pandas. Value '0.24280548095703125' has dtype incompatible with int64, please explicitly cast to a compatible dtype first.\n",
            "  temp_df.at[j, 'flight_time'] = flight_hold[fh_count]\n"
          ]
        },
        {
          "name": "stdout",
          "output_type": "stream",
          "text": [
            "User 77\n",
            "Target Labels [0, 1, 0, 1]\n",
            "Predicted Labels [0 1 1 1]\n",
            "Accuracy: 0.75\n",
            "Fm: 0.7333333333333334\n",
            "----------------------------\n"
          ]
        },
        {
          "name": "stderr",
          "output_type": "stream",
          "text": [
            "<ipython-input-3-8a26ce10022a>:86: FutureWarning: Setting an item of incompatible dtype is deprecated and will raise an error in a future version of pandas. Value '0.0010013580322265625' has dtype incompatible with int64, please explicitly cast to a compatible dtype first.\n",
            "  temp_df.at[j, 'flight_time'] = flight_hold[fh_count]\n",
            "<ipython-input-3-8a26ce10022a>:86: FutureWarning: Setting an item of incompatible dtype is deprecated and will raise an error in a future version of pandas. Value '0.3568534851074219' has dtype incompatible with int64, please explicitly cast to a compatible dtype first.\n",
            "  temp_df.at[j, 'flight_time'] = flight_hold[fh_count]\n"
          ]
        },
        {
          "name": "stdout",
          "output_type": "stream",
          "text": [
            "User 78\n",
            "Target Labels [0, 1, 0, 1]\n",
            "Predicted Labels [0 1 0 1]\n",
            "Accuracy: 1.0\n",
            "Fm: 1.0\n",
            "----------------------------\n"
          ]
        },
        {
          "name": "stderr",
          "output_type": "stream",
          "text": [
            "<ipython-input-3-8a26ce10022a>:86: FutureWarning: Setting an item of incompatible dtype is deprecated and will raise an error in a future version of pandas. Value '0.45618629455566406' has dtype incompatible with int64, please explicitly cast to a compatible dtype first.\n",
            "  temp_df.at[j, 'flight_time'] = flight_hold[fh_count]\n",
            "<ipython-input-3-8a26ce10022a>:86: FutureWarning: Setting an item of incompatible dtype is deprecated and will raise an error in a future version of pandas. Value '0.024073123931884766' has dtype incompatible with int64, please explicitly cast to a compatible dtype first.\n",
            "  temp_df.at[j, 'flight_time'] = flight_hold[fh_count]\n"
          ]
        },
        {
          "name": "stdout",
          "output_type": "stream",
          "text": [
            "User 79\n",
            "Target Labels [0, 1, 0, 1]\n",
            "Predicted Labels [0 1 0 1]\n",
            "Accuracy: 1.0\n",
            "Fm: 1.0\n",
            "----------------------------\n"
          ]
        },
        {
          "name": "stderr",
          "output_type": "stream",
          "text": [
            "<ipython-input-3-8a26ce10022a>:86: FutureWarning: Setting an item of incompatible dtype is deprecated and will raise an error in a future version of pandas. Value '0.39807581901550293' has dtype incompatible with int64, please explicitly cast to a compatible dtype first.\n",
            "  temp_df.at[j, 'flight_time'] = flight_hold[fh_count]\n",
            "<ipython-input-3-8a26ce10022a>:86: FutureWarning: Setting an item of incompatible dtype is deprecated and will raise an error in a future version of pandas. Value '0.036962270736694336' has dtype incompatible with int64, please explicitly cast to a compatible dtype first.\n",
            "  temp_df.at[j, 'flight_time'] = flight_hold[fh_count]\n"
          ]
        },
        {
          "name": "stdout",
          "output_type": "stream",
          "text": [
            "User 80\n",
            "Target Labels [0, 1, 0, 1]\n",
            "Predicted Labels [0 1 0 1]\n",
            "Accuracy: 1.0\n",
            "Fm: 1.0\n",
            "----------------------------\n"
          ]
        },
        {
          "name": "stderr",
          "output_type": "stream",
          "text": [
            "<ipython-input-3-8a26ce10022a>:86: FutureWarning: Setting an item of incompatible dtype is deprecated and will raise an error in a future version of pandas. Value '2.398696184158325' has dtype incompatible with int64, please explicitly cast to a compatible dtype first.\n",
            "  temp_df.at[j, 'flight_time'] = flight_hold[fh_count]\n",
            "<ipython-input-3-8a26ce10022a>:86: FutureWarning: Setting an item of incompatible dtype is deprecated and will raise an error in a future version of pandas. Value '0.1761631965637207' has dtype incompatible with int64, please explicitly cast to a compatible dtype first.\n",
            "  temp_df.at[j, 'flight_time'] = flight_hold[fh_count]\n"
          ]
        },
        {
          "name": "stdout",
          "output_type": "stream",
          "text": [
            "User 81\n",
            "Target Labels [0, 1, 0, 1]\n",
            "Predicted Labels [0 0 1 1]\n",
            "Accuracy: 0.5\n",
            "Fm: 0.5\n",
            "----------------------------\n"
          ]
        },
        {
          "name": "stderr",
          "output_type": "stream",
          "text": [
            "<ipython-input-3-8a26ce10022a>:86: FutureWarning: Setting an item of incompatible dtype is deprecated and will raise an error in a future version of pandas. Value '1.6160075664520264' has dtype incompatible with int64, please explicitly cast to a compatible dtype first.\n",
            "  temp_df.at[j, 'flight_time'] = flight_hold[fh_count]\n",
            "<ipython-input-3-8a26ce10022a>:86: FutureWarning: Setting an item of incompatible dtype is deprecated and will raise an error in a future version of pandas. Value '0.03802084922790527' has dtype incompatible with int64, please explicitly cast to a compatible dtype first.\n",
            "  temp_df.at[j, 'flight_time'] = flight_hold[fh_count]\n"
          ]
        },
        {
          "name": "stdout",
          "output_type": "stream",
          "text": [
            "User 82\n",
            "Target Labels [0, 1, 0, 1]\n",
            "Predicted Labels [0 1 1 1]\n",
            "Accuracy: 0.75\n",
            "Fm: 0.7333333333333334\n",
            "----------------------------\n"
          ]
        },
        {
          "name": "stderr",
          "output_type": "stream",
          "text": [
            "<ipython-input-3-8a26ce10022a>:86: FutureWarning: Setting an item of incompatible dtype is deprecated and will raise an error in a future version of pandas. Value '1.349229097366333' has dtype incompatible with int64, please explicitly cast to a compatible dtype first.\n",
            "  temp_df.at[j, 'flight_time'] = flight_hold[fh_count]\n",
            "<ipython-input-3-8a26ce10022a>:86: FutureWarning: Setting an item of incompatible dtype is deprecated and will raise an error in a future version of pandas. Value '0.1909656524658203' has dtype incompatible with int64, please explicitly cast to a compatible dtype first.\n",
            "  temp_df.at[j, 'flight_time'] = flight_hold[fh_count]\n"
          ]
        },
        {
          "name": "stdout",
          "output_type": "stream",
          "text": [
            "User 83\n",
            "Target Labels [0, 1, 0, 1]\n",
            "Predicted Labels [0 1 1 0]\n",
            "Accuracy: 0.5\n",
            "Fm: 0.5\n",
            "----------------------------\n"
          ]
        },
        {
          "name": "stderr",
          "output_type": "stream",
          "text": [
            "<ipython-input-3-8a26ce10022a>:86: FutureWarning: Setting an item of incompatible dtype is deprecated and will raise an error in a future version of pandas. Value '2.154421806335449' has dtype incompatible with int64, please explicitly cast to a compatible dtype first.\n",
            "  temp_df.at[j, 'flight_time'] = flight_hold[fh_count]\n",
            "<ipython-input-3-8a26ce10022a>:86: FutureWarning: Setting an item of incompatible dtype is deprecated and will raise an error in a future version of pandas. Value '0.03709220886230469' has dtype incompatible with int64, please explicitly cast to a compatible dtype first.\n",
            "  temp_df.at[j, 'flight_time'] = flight_hold[fh_count]\n"
          ]
        },
        {
          "name": "stdout",
          "output_type": "stream",
          "text": [
            "User 84\n",
            "Target Labels [0, 1, 0, 1]\n",
            "Predicted Labels [1 0 1 1]\n",
            "Accuracy: 0.25\n",
            "Fm: 0.2\n",
            "----------------------------\n"
          ]
        },
        {
          "name": "stderr",
          "output_type": "stream",
          "text": [
            "<ipython-input-3-8a26ce10022a>:86: FutureWarning: Setting an item of incompatible dtype is deprecated and will raise an error in a future version of pandas. Value '0.06066179275512695' has dtype incompatible with int64, please explicitly cast to a compatible dtype first.\n",
            "  temp_df.at[j, 'flight_time'] = flight_hold[fh_count]\n",
            "<ipython-input-3-8a26ce10022a>:86: FutureWarning: Setting an item of incompatible dtype is deprecated and will raise an error in a future version of pandas. Value '0.4990246295928955' has dtype incompatible with int64, please explicitly cast to a compatible dtype first.\n",
            "  temp_df.at[j, 'flight_time'] = flight_hold[fh_count]\n"
          ]
        },
        {
          "name": "stdout",
          "output_type": "stream",
          "text": [
            "User 85\n",
            "Target Labels [0, 1, 0, 1]\n",
            "Predicted Labels [1 0 0 1]\n",
            "Accuracy: 0.5\n",
            "Fm: 0.5\n",
            "----------------------------\n"
          ]
        },
        {
          "name": "stderr",
          "output_type": "stream",
          "text": [
            "<ipython-input-3-8a26ce10022a>:86: FutureWarning: Setting an item of incompatible dtype is deprecated and will raise an error in a future version of pandas. Value '1.2147762775421143' has dtype incompatible with int64, please explicitly cast to a compatible dtype first.\n",
            "  temp_df.at[j, 'flight_time'] = flight_hold[fh_count]\n",
            "<ipython-input-3-8a26ce10022a>:86: FutureWarning: Setting an item of incompatible dtype is deprecated and will raise an error in a future version of pandas. Value '0.04974937438964844' has dtype incompatible with int64, please explicitly cast to a compatible dtype first.\n",
            "  temp_df.at[j, 'flight_time'] = flight_hold[fh_count]\n"
          ]
        },
        {
          "name": "stdout",
          "output_type": "stream",
          "text": [
            "User 86\n",
            "Target Labels [0, 1, 0, 1]\n",
            "Predicted Labels [1 1 0 1]\n",
            "Accuracy: 0.75\n",
            "Fm: 0.7333333333333334\n",
            "----------------------------\n"
          ]
        },
        {
          "name": "stderr",
          "output_type": "stream",
          "text": [
            "<ipython-input-3-8a26ce10022a>:86: FutureWarning: Setting an item of incompatible dtype is deprecated and will raise an error in a future version of pandas. Value '6.351594924926758' has dtype incompatible with int64, please explicitly cast to a compatible dtype first.\n",
            "  temp_df.at[j, 'flight_time'] = flight_hold[fh_count]\n",
            "<ipython-input-3-8a26ce10022a>:86: FutureWarning: Setting an item of incompatible dtype is deprecated and will raise an error in a future version of pandas. Value '0.025191068649291992' has dtype incompatible with int64, please explicitly cast to a compatible dtype first.\n",
            "  temp_df.at[j, 'flight_time'] = flight_hold[fh_count]\n"
          ]
        },
        {
          "name": "stdout",
          "output_type": "stream",
          "text": [
            "User 87\n",
            "Target Labels [0, 1, 0, 1]\n",
            "Predicted Labels [0 1 0 1]\n",
            "Accuracy: 1.0\n",
            "Fm: 1.0\n",
            "----------------------------\n"
          ]
        },
        {
          "name": "stderr",
          "output_type": "stream",
          "text": [
            "<ipython-input-3-8a26ce10022a>:86: FutureWarning: Setting an item of incompatible dtype is deprecated and will raise an error in a future version of pandas. Value '0.9692249298095703' has dtype incompatible with int64, please explicitly cast to a compatible dtype first.\n",
            "  temp_df.at[j, 'flight_time'] = flight_hold[fh_count]\n",
            "<ipython-input-3-8a26ce10022a>:86: FutureWarning: Setting an item of incompatible dtype is deprecated and will raise an error in a future version of pandas. Value '0.049141645431518555' has dtype incompatible with int64, please explicitly cast to a compatible dtype first.\n",
            "  temp_df.at[j, 'flight_time'] = flight_hold[fh_count]\n"
          ]
        },
        {
          "name": "stdout",
          "output_type": "stream",
          "text": [
            "User 88\n",
            "Target Labels [0, 1, 0, 1]\n",
            "Predicted Labels [0 1 0 1]\n",
            "Accuracy: 1.0\n",
            "Fm: 1.0\n",
            "----------------------------\n",
            " \n",
            "###########################\n",
            "##########RESULTS##########\n",
            "###########################\n",
            "Accuracy: 0.7613636363636364\n",
            "F-Measure: 0.7340909090909093\n"
          ]
        }
      ],
      "source": [
        "# Temporary list storage for visualisation\n",
        "acc_list = []\n",
        "fm_list = []\n",
        "# RUNS THE MODEL ON EACH OF THE USER'S DATA\n",
        "\n",
        "for i in range(1, 89):\n",
        "    # stores each of the true data as dictionaries\n",
        "    user_number = i\n",
        "    user_number = str(user_number).zfill(4)\n",
        "    f = open('/content/drive/MyDrive/behaviour_biometrics_dataset/raw_kmt_dataset/raw_kmt_user_' + user_number + '.json')\n",
        "    data = json.load(f)\n",
        "    user_details = data['details'] # stores the fabricated card details entered for the user\n",
        "    true_data = data['true_data'] # stores the true data of the .json file\n",
        "    false_data = data ['false_data']\n",
        "    #----------------------------------\n",
        "    true_k_df = dict_key_conversion(true_data) # gets the key events from the json files\n",
        "    false_k_df = dict_key_conversion(false_data)\n",
        "\n",
        "    true_m_df = dict_mouse_conversion(true_data) # gets the mouse events from the json files\n",
        "    false_m_df = dict_mouse_conversion(false_data)\n",
        "    #----------------------------------\n",
        "    true_df = feature_gen(true_k_df, true_m_df) # gets the average dwell, flight and traj for each test\n",
        "    false_df = feature_gen(false_k_df, false_m_df)\n",
        "    true_df['label'] = 1 # adds true or false label to the df for the ML algorithm, 1 == true, 0 == false\n",
        "    false_df['label'] = 0\n",
        "    final_df = pd.concat([true_df, false_df])\n",
        "    final_df = final_df.reset_index(drop=True) # final df that will be used within the ML algorithm\n",
        "    #----------------------------------\n",
        "    y = final_df['label'].tolist() # carries out the train test split and the ML prediction\n",
        "    X = final_df.drop(['label'], axis=1)\n",
        "    X_train, X_test, y_train, y_test = train_test_split(X, y, test_size=0.2, random_state=0)\n",
        "\n",
        "    clf = tree.DecisionTreeClassifier()\n",
        "    clf.fit(X_train, y_train)\n",
        "    predicted_labels = clf.predict(X_test)\n",
        "    clf_rep = classification_report(y_test, predicted_labels, output_dict=True)\n",
        "    acc = clf_rep['accuracy']\n",
        "    fm = clf_rep['weighted avg']['f1-score']\n",
        "    print('User', i)\n",
        "    print('Target Labels', y_test)\n",
        "    print('Predicted Labels', predicted_labels)\n",
        "    print('Accuracy:', acc)\n",
        "    print('Fm:', fm)\n",
        "    print('----------------------------')\n",
        "\n",
        "    acc_list.append(acc)\n",
        "    fm_list.append(fm)\n",
        "\n",
        "\n",
        "\n",
        "final_acc = sum(acc_list)/len(acc_list)\n",
        "final_fm = sum(fm_list)/len(fm_list)\n",
        "\n",
        "\n",
        "print(' ')\n",
        "print('###########################')\n",
        "print('##########RESULTS##########')\n",
        "print('###########################')\n",
        "print('Accuracy:', final_acc)\n",
        "print('F-Measure:', final_fm)"
      ]
    },
    {
      "cell_type": "markdown",
      "metadata": {
        "id": "TzG3thuYkoea"
      },
      "source": [
        "# STEP 5 - Visualisation\n"
      ]
    },
    {
      "cell_type": "markdown",
      "metadata": {
        "id": "sIDY0bBc7g5_"
      },
      "source": [
        "Provides visual representation of the experimental data (frame) and results"
      ]
    },
    {
      "cell_type": "code",
      "execution_count": 28,
      "metadata": {
        "colab": {
          "base_uri": "https://localhost:8080/",
          "height": 676
        },
        "id": "8XnAX5yUA2-H",
        "outputId": "ba89b8dc-ae4f-458c-db2f-3d8d37bc1fe9"
      },
      "outputs": [
        {
          "data": {
            "application/vnd.google.colaboratory.intrinsic+json": {
              "summary": "{\n  \"name\": \"final_df\",\n  \"rows\": 20,\n  \"fields\": [\n    {\n      \"column\": \"dwell_avg\",\n      \"properties\": {\n        \"dtype\": \"number\",\n        \"std\": 0.030760186588272287,\n        \"min\": 0.07307535264550186,\n        \"max\": 0.160634716351827,\n        \"num_unique_values\": 20,\n        \"samples\": [\n          0.14720674271279194,\n          0.1303809503229653,\n          0.13995061137459494\n        ],\n        \"semantic_type\": \"\",\n        \"description\": \"\"\n      }\n    },\n    {\n      \"column\": \"flight_avg\",\n      \"properties\": {\n        \"dtype\": \"number\",\n        \"std\": 0.48459985217125756,\n        \"min\": 0.5567318149234938,\n        \"max\": 2.7512041862974774,\n        \"num_unique_values\": 20,\n        \"samples\": [\n          2.7512041862974774,\n          0.8619918939543934,\n          1.3410648486830972\n        ],\n        \"semantic_type\": \"\",\n        \"description\": \"\"\n      }\n    },\n    {\n      \"column\": \"traj_avg\",\n      \"properties\": {\n        \"dtype\": \"number\",\n        \"std\": 146.48084002390286,\n        \"min\": 316.7786601951667,\n        \"max\": 958.6727141576469,\n        \"num_unique_values\": 20,\n        \"samples\": [\n          574.5305006470217,\n          326.4340767692115,\n          316.7786601951667\n        ],\n        \"semantic_type\": \"\",\n        \"description\": \"\"\n      }\n    },\n    {\n      \"column\": \"label\",\n      \"properties\": {\n        \"dtype\": \"number\",\n        \"std\": 0,\n        \"min\": 0,\n        \"max\": 1,\n        \"num_unique_values\": 2,\n        \"samples\": [\n          0,\n          1\n        ],\n        \"semantic_type\": \"\",\n        \"description\": \"\"\n      }\n    }\n  ]\n}",
              "type": "dataframe",
              "variable_name": "final_df"
            },
            "text/html": [
              "\n",
              "  <div id=\"df-31f85b91-da39-4bda-97c3-16fe9576be99\" class=\"colab-df-container\">\n",
              "    <div>\n",
              "<style scoped>\n",
              "    .dataframe tbody tr th:only-of-type {\n",
              "        vertical-align: middle;\n",
              "    }\n",
              "\n",
              "    .dataframe tbody tr th {\n",
              "        vertical-align: top;\n",
              "    }\n",
              "\n",
              "    .dataframe thead th {\n",
              "        text-align: right;\n",
              "    }\n",
              "</style>\n",
              "<table border=\"1\" class=\"dataframe\">\n",
              "  <thead>\n",
              "    <tr style=\"text-align: right;\">\n",
              "      <th></th>\n",
              "      <th>dwell_avg</th>\n",
              "      <th>flight_avg</th>\n",
              "      <th>traj_avg</th>\n",
              "      <th>label</th>\n",
              "    </tr>\n",
              "  </thead>\n",
              "  <tbody>\n",
              "    <tr>\n",
              "      <th>0</th>\n",
              "      <td>0.147207</td>\n",
              "      <td>2.751204</td>\n",
              "      <td>574.530501</td>\n",
              "      <td>1</td>\n",
              "    </tr>\n",
              "    <tr>\n",
              "      <th>1</th>\n",
              "      <td>0.151566</td>\n",
              "      <td>1.510618</td>\n",
              "      <td>467.405409</td>\n",
              "      <td>1</td>\n",
              "    </tr>\n",
              "    <tr>\n",
              "      <th>2</th>\n",
              "      <td>0.160485</td>\n",
              "      <td>0.831984</td>\n",
              "      <td>633.774855</td>\n",
              "      <td>1</td>\n",
              "    </tr>\n",
              "    <tr>\n",
              "      <th>3</th>\n",
              "      <td>0.160635</td>\n",
              "      <td>0.872912</td>\n",
              "      <td>590.144207</td>\n",
              "      <td>1</td>\n",
              "    </tr>\n",
              "    <tr>\n",
              "      <th>4</th>\n",
              "      <td>0.151265</td>\n",
              "      <td>0.962310</td>\n",
              "      <td>430.895533</td>\n",
              "      <td>1</td>\n",
              "    </tr>\n",
              "    <tr>\n",
              "      <th>5</th>\n",
              "      <td>0.146313</td>\n",
              "      <td>0.870686</td>\n",
              "      <td>538.250621</td>\n",
              "      <td>1</td>\n",
              "    </tr>\n",
              "    <tr>\n",
              "      <th>6</th>\n",
              "      <td>0.148424</td>\n",
              "      <td>0.791336</td>\n",
              "      <td>578.814630</td>\n",
              "      <td>1</td>\n",
              "    </tr>\n",
              "    <tr>\n",
              "      <th>7</th>\n",
              "      <td>0.145037</td>\n",
              "      <td>0.705678</td>\n",
              "      <td>462.138789</td>\n",
              "      <td>1</td>\n",
              "    </tr>\n",
              "    <tr>\n",
              "      <th>8</th>\n",
              "      <td>0.154299</td>\n",
              "      <td>0.950675</td>\n",
              "      <td>452.602328</td>\n",
              "      <td>1</td>\n",
              "    </tr>\n",
              "    <tr>\n",
              "      <th>9</th>\n",
              "      <td>0.148347</td>\n",
              "      <td>0.723206</td>\n",
              "      <td>460.564528</td>\n",
              "      <td>1</td>\n",
              "    </tr>\n",
              "    <tr>\n",
              "      <th>10</th>\n",
              "      <td>0.075955</td>\n",
              "      <td>0.556732</td>\n",
              "      <td>487.969810</td>\n",
              "      <td>0</td>\n",
              "    </tr>\n",
              "    <tr>\n",
              "      <th>11</th>\n",
              "      <td>0.086327</td>\n",
              "      <td>0.614592</td>\n",
              "      <td>355.451271</td>\n",
              "      <td>0</td>\n",
              "    </tr>\n",
              "    <tr>\n",
              "      <th>12</th>\n",
              "      <td>0.073075</td>\n",
              "      <td>1.074394</td>\n",
              "      <td>958.672714</td>\n",
              "      <td>0</td>\n",
              "    </tr>\n",
              "    <tr>\n",
              "      <th>13</th>\n",
              "      <td>0.073094</td>\n",
              "      <td>1.151863</td>\n",
              "      <td>632.528714</td>\n",
              "      <td>0</td>\n",
              "    </tr>\n",
              "    <tr>\n",
              "      <th>14</th>\n",
              "      <td>0.107680</td>\n",
              "      <td>0.922449</td>\n",
              "      <td>462.723500</td>\n",
              "      <td>0</td>\n",
              "    </tr>\n",
              "    <tr>\n",
              "      <th>15</th>\n",
              "      <td>0.139951</td>\n",
              "      <td>1.341065</td>\n",
              "      <td>316.778660</td>\n",
              "      <td>0</td>\n",
              "    </tr>\n",
              "    <tr>\n",
              "      <th>16</th>\n",
              "      <td>0.105036</td>\n",
              "      <td>1.449078</td>\n",
              "      <td>333.684402</td>\n",
              "      <td>0</td>\n",
              "    </tr>\n",
              "    <tr>\n",
              "      <th>17</th>\n",
              "      <td>0.130381</td>\n",
              "      <td>0.861992</td>\n",
              "      <td>326.434077</td>\n",
              "      <td>0</td>\n",
              "    </tr>\n",
              "    <tr>\n",
              "      <th>18</th>\n",
              "      <td>0.101678</td>\n",
              "      <td>1.249236</td>\n",
              "      <td>389.217512</td>\n",
              "      <td>0</td>\n",
              "    </tr>\n",
              "    <tr>\n",
              "      <th>19</th>\n",
              "      <td>0.122235</td>\n",
              "      <td>1.471464</td>\n",
              "      <td>557.925187</td>\n",
              "      <td>0</td>\n",
              "    </tr>\n",
              "  </tbody>\n",
              "</table>\n",
              "</div>\n",
              "    <div class=\"colab-df-buttons\">\n",
              "\n",
              "  <div class=\"colab-df-container\">\n",
              "    <button class=\"colab-df-convert\" onclick=\"convertToInteractive('df-31f85b91-da39-4bda-97c3-16fe9576be99')\"\n",
              "            title=\"Convert this dataframe to an interactive table.\"\n",
              "            style=\"display:none;\">\n",
              "\n",
              "  <svg xmlns=\"http://www.w3.org/2000/svg\" height=\"24px\" viewBox=\"0 -960 960 960\">\n",
              "    <path d=\"M120-120v-720h720v720H120Zm60-500h600v-160H180v160Zm220 220h160v-160H400v160Zm0 220h160v-160H400v160ZM180-400h160v-160H180v160Zm440 0h160v-160H620v160ZM180-180h160v-160H180v160Zm440 0h160v-160H620v160Z\"/>\n",
              "  </svg>\n",
              "    </button>\n",
              "\n",
              "  <style>\n",
              "    .colab-df-container {\n",
              "      display:flex;\n",
              "      gap: 12px;\n",
              "    }\n",
              "\n",
              "    .colab-df-convert {\n",
              "      background-color: #E8F0FE;\n",
              "      border: none;\n",
              "      border-radius: 50%;\n",
              "      cursor: pointer;\n",
              "      display: none;\n",
              "      fill: #1967D2;\n",
              "      height: 32px;\n",
              "      padding: 0 0 0 0;\n",
              "      width: 32px;\n",
              "    }\n",
              "\n",
              "    .colab-df-convert:hover {\n",
              "      background-color: #E2EBFA;\n",
              "      box-shadow: 0px 1px 2px rgba(60, 64, 67, 0.3), 0px 1px 3px 1px rgba(60, 64, 67, 0.15);\n",
              "      fill: #174EA6;\n",
              "    }\n",
              "\n",
              "    .colab-df-buttons div {\n",
              "      margin-bottom: 4px;\n",
              "    }\n",
              "\n",
              "    [theme=dark] .colab-df-convert {\n",
              "      background-color: #3B4455;\n",
              "      fill: #D2E3FC;\n",
              "    }\n",
              "\n",
              "    [theme=dark] .colab-df-convert:hover {\n",
              "      background-color: #434B5C;\n",
              "      box-shadow: 0px 1px 3px 1px rgba(0, 0, 0, 0.15);\n",
              "      filter: drop-shadow(0px 1px 2px rgba(0, 0, 0, 0.3));\n",
              "      fill: #FFFFFF;\n",
              "    }\n",
              "  </style>\n",
              "\n",
              "    <script>\n",
              "      const buttonEl =\n",
              "        document.querySelector('#df-31f85b91-da39-4bda-97c3-16fe9576be99 button.colab-df-convert');\n",
              "      buttonEl.style.display =\n",
              "        google.colab.kernel.accessAllowed ? 'block' : 'none';\n",
              "\n",
              "      async function convertToInteractive(key) {\n",
              "        const element = document.querySelector('#df-31f85b91-da39-4bda-97c3-16fe9576be99');\n",
              "        const dataTable =\n",
              "          await google.colab.kernel.invokeFunction('convertToInteractive',\n",
              "                                                    [key], {});\n",
              "        if (!dataTable) return;\n",
              "\n",
              "        const docLinkHtml = 'Like what you see? Visit the ' +\n",
              "          '<a target=\"_blank\" href=https://colab.research.google.com/notebooks/data_table.ipynb>data table notebook</a>'\n",
              "          + ' to learn more about interactive tables.';\n",
              "        element.innerHTML = '';\n",
              "        dataTable['output_type'] = 'display_data';\n",
              "        await google.colab.output.renderOutput(dataTable, element);\n",
              "        const docLink = document.createElement('div');\n",
              "        docLink.innerHTML = docLinkHtml;\n",
              "        element.appendChild(docLink);\n",
              "      }\n",
              "    </script>\n",
              "  </div>\n",
              "\n",
              "\n",
              "<div id=\"df-1eae1bda-6818-4a5c-8fec-cd7806cdaf1d\">\n",
              "  <button class=\"colab-df-quickchart\" onclick=\"quickchart('df-1eae1bda-6818-4a5c-8fec-cd7806cdaf1d')\"\n",
              "            title=\"Suggest charts\"\n",
              "            style=\"display:none;\">\n",
              "\n",
              "<svg xmlns=\"http://www.w3.org/2000/svg\" height=\"24px\"viewBox=\"0 0 24 24\"\n",
              "     width=\"24px\">\n",
              "    <g>\n",
              "        <path d=\"M19 3H5c-1.1 0-2 .9-2 2v14c0 1.1.9 2 2 2h14c1.1 0 2-.9 2-2V5c0-1.1-.9-2-2-2zM9 17H7v-7h2v7zm4 0h-2V7h2v10zm4 0h-2v-4h2v4z\"/>\n",
              "    </g>\n",
              "</svg>\n",
              "  </button>\n",
              "\n",
              "<style>\n",
              "  .colab-df-quickchart {\n",
              "      --bg-color: #E8F0FE;\n",
              "      --fill-color: #1967D2;\n",
              "      --hover-bg-color: #E2EBFA;\n",
              "      --hover-fill-color: #174EA6;\n",
              "      --disabled-fill-color: #AAA;\n",
              "      --disabled-bg-color: #DDD;\n",
              "  }\n",
              "\n",
              "  [theme=dark] .colab-df-quickchart {\n",
              "      --bg-color: #3B4455;\n",
              "      --fill-color: #D2E3FC;\n",
              "      --hover-bg-color: #434B5C;\n",
              "      --hover-fill-color: #FFFFFF;\n",
              "      --disabled-bg-color: #3B4455;\n",
              "      --disabled-fill-color: #666;\n",
              "  }\n",
              "\n",
              "  .colab-df-quickchart {\n",
              "    background-color: var(--bg-color);\n",
              "    border: none;\n",
              "    border-radius: 50%;\n",
              "    cursor: pointer;\n",
              "    display: none;\n",
              "    fill: var(--fill-color);\n",
              "    height: 32px;\n",
              "    padding: 0;\n",
              "    width: 32px;\n",
              "  }\n",
              "\n",
              "  .colab-df-quickchart:hover {\n",
              "    background-color: var(--hover-bg-color);\n",
              "    box-shadow: 0 1px 2px rgba(60, 64, 67, 0.3), 0 1px 3px 1px rgba(60, 64, 67, 0.15);\n",
              "    fill: var(--button-hover-fill-color);\n",
              "  }\n",
              "\n",
              "  .colab-df-quickchart-complete:disabled,\n",
              "  .colab-df-quickchart-complete:disabled:hover {\n",
              "    background-color: var(--disabled-bg-color);\n",
              "    fill: var(--disabled-fill-color);\n",
              "    box-shadow: none;\n",
              "  }\n",
              "\n",
              "  .colab-df-spinner {\n",
              "    border: 2px solid var(--fill-color);\n",
              "    border-color: transparent;\n",
              "    border-bottom-color: var(--fill-color);\n",
              "    animation:\n",
              "      spin 1s steps(1) infinite;\n",
              "  }\n",
              "\n",
              "  @keyframes spin {\n",
              "    0% {\n",
              "      border-color: transparent;\n",
              "      border-bottom-color: var(--fill-color);\n",
              "      border-left-color: var(--fill-color);\n",
              "    }\n",
              "    20% {\n",
              "      border-color: transparent;\n",
              "      border-left-color: var(--fill-color);\n",
              "      border-top-color: var(--fill-color);\n",
              "    }\n",
              "    30% {\n",
              "      border-color: transparent;\n",
              "      border-left-color: var(--fill-color);\n",
              "      border-top-color: var(--fill-color);\n",
              "      border-right-color: var(--fill-color);\n",
              "    }\n",
              "    40% {\n",
              "      border-color: transparent;\n",
              "      border-right-color: var(--fill-color);\n",
              "      border-top-color: var(--fill-color);\n",
              "    }\n",
              "    60% {\n",
              "      border-color: transparent;\n",
              "      border-right-color: var(--fill-color);\n",
              "    }\n",
              "    80% {\n",
              "      border-color: transparent;\n",
              "      border-right-color: var(--fill-color);\n",
              "      border-bottom-color: var(--fill-color);\n",
              "    }\n",
              "    90% {\n",
              "      border-color: transparent;\n",
              "      border-bottom-color: var(--fill-color);\n",
              "    }\n",
              "  }\n",
              "</style>\n",
              "\n",
              "  <script>\n",
              "    async function quickchart(key) {\n",
              "      const quickchartButtonEl =\n",
              "        document.querySelector('#' + key + ' button');\n",
              "      quickchartButtonEl.disabled = true;  // To prevent multiple clicks.\n",
              "      quickchartButtonEl.classList.add('colab-df-spinner');\n",
              "      try {\n",
              "        const charts = await google.colab.kernel.invokeFunction(\n",
              "            'suggestCharts', [key], {});\n",
              "      } catch (error) {\n",
              "        console.error('Error during call to suggestCharts:', error);\n",
              "      }\n",
              "      quickchartButtonEl.classList.remove('colab-df-spinner');\n",
              "      quickchartButtonEl.classList.add('colab-df-quickchart-complete');\n",
              "    }\n",
              "    (() => {\n",
              "      let quickchartButtonEl =\n",
              "        document.querySelector('#df-1eae1bda-6818-4a5c-8fec-cd7806cdaf1d button');\n",
              "      quickchartButtonEl.style.display =\n",
              "        google.colab.kernel.accessAllowed ? 'block' : 'none';\n",
              "    })();\n",
              "  </script>\n",
              "</div>\n",
              "\n",
              "  <div id=\"id_686d7224-5d5f-4c4f-83bc-2ba3ddb07e5e\">\n",
              "    <style>\n",
              "      .colab-df-generate {\n",
              "        background-color: #E8F0FE;\n",
              "        border: none;\n",
              "        border-radius: 50%;\n",
              "        cursor: pointer;\n",
              "        display: none;\n",
              "        fill: #1967D2;\n",
              "        height: 32px;\n",
              "        padding: 0 0 0 0;\n",
              "        width: 32px;\n",
              "      }\n",
              "\n",
              "      .colab-df-generate:hover {\n",
              "        background-color: #E2EBFA;\n",
              "        box-shadow: 0px 1px 2px rgba(60, 64, 67, 0.3), 0px 1px 3px 1px rgba(60, 64, 67, 0.15);\n",
              "        fill: #174EA6;\n",
              "      }\n",
              "\n",
              "      [theme=dark] .colab-df-generate {\n",
              "        background-color: #3B4455;\n",
              "        fill: #D2E3FC;\n",
              "      }\n",
              "\n",
              "      [theme=dark] .colab-df-generate:hover {\n",
              "        background-color: #434B5C;\n",
              "        box-shadow: 0px 1px 3px 1px rgba(0, 0, 0, 0.15);\n",
              "        filter: drop-shadow(0px 1px 2px rgba(0, 0, 0, 0.3));\n",
              "        fill: #FFFFFF;\n",
              "      }\n",
              "    </style>\n",
              "    <button class=\"colab-df-generate\" onclick=\"generateWithVariable('final_df')\"\n",
              "            title=\"Generate code using this dataframe.\"\n",
              "            style=\"display:none;\">\n",
              "\n",
              "  <svg xmlns=\"http://www.w3.org/2000/svg\" height=\"24px\"viewBox=\"0 0 24 24\"\n",
              "       width=\"24px\">\n",
              "    <path d=\"M7,19H8.4L18.45,9,17,7.55,7,17.6ZM5,21V16.75L18.45,3.32a2,2,0,0,1,2.83,0l1.4,1.43a1.91,1.91,0,0,1,.58,1.4,1.91,1.91,0,0,1-.58,1.4L9.25,21ZM18.45,9,17,7.55Zm-12,3A5.31,5.31,0,0,0,4.9,8.1,5.31,5.31,0,0,0,1,6.5,5.31,5.31,0,0,0,4.9,4.9,5.31,5.31,0,0,0,6.5,1,5.31,5.31,0,0,0,8.1,4.9,5.31,5.31,0,0,0,12,6.5,5.46,5.46,0,0,0,6.5,12Z\"/>\n",
              "  </svg>\n",
              "    </button>\n",
              "    <script>\n",
              "      (() => {\n",
              "      const buttonEl =\n",
              "        document.querySelector('#id_686d7224-5d5f-4c4f-83bc-2ba3ddb07e5e button.colab-df-generate');\n",
              "      buttonEl.style.display =\n",
              "        google.colab.kernel.accessAllowed ? 'block' : 'none';\n",
              "\n",
              "      buttonEl.onclick = () => {\n",
              "        google.colab.notebook.generateWithVariable('final_df');\n",
              "      }\n",
              "      })();\n",
              "    </script>\n",
              "  </div>\n",
              "\n",
              "    </div>\n",
              "  </div>\n"
            ],
            "text/plain": [
              "    dwell_avg  flight_avg    traj_avg  label\n",
              "0    0.147207    2.751204  574.530501      1\n",
              "1    0.151566    1.510618  467.405409      1\n",
              "2    0.160485    0.831984  633.774855      1\n",
              "3    0.160635    0.872912  590.144207      1\n",
              "4    0.151265    0.962310  430.895533      1\n",
              "5    0.146313    0.870686  538.250621      1\n",
              "6    0.148424    0.791336  578.814630      1\n",
              "7    0.145037    0.705678  462.138789      1\n",
              "8    0.154299    0.950675  452.602328      1\n",
              "9    0.148347    0.723206  460.564528      1\n",
              "10   0.075955    0.556732  487.969810      0\n",
              "11   0.086327    0.614592  355.451271      0\n",
              "12   0.073075    1.074394  958.672714      0\n",
              "13   0.073094    1.151863  632.528714      0\n",
              "14   0.107680    0.922449  462.723500      0\n",
              "15   0.139951    1.341065  316.778660      0\n",
              "16   0.105036    1.449078  333.684402      0\n",
              "17   0.130381    0.861992  326.434077      0\n",
              "18   0.101678    1.249236  389.217512      0\n",
              "19   0.122235    1.471464  557.925187      0"
            ]
          },
          "execution_count": 28,
          "metadata": {},
          "output_type": "execute_result"
        }
      ],
      "source": [
        "final_df # displays the last df that was passed to the ML algorithm"
      ]
    },
    {
      "cell_type": "code",
      "execution_count": 29,
      "metadata": {
        "colab": {
          "base_uri": "https://localhost:8080/",
          "height": 659
        },
        "id": "ypK_jEqOvQ5S",
        "outputId": "bc7aa93f-632c-4c1e-cc0a-43eee5e5cf22"
      },
      "outputs": [
        {
          "data": {
            "text/plain": [
              "(-0.1, 1.1)"
            ]
          },
          "execution_count": 29,
          "metadata": {},
          "output_type": "execute_result"
        },
        {
          "data": {
            "image/png": "[encoded data removed]",
            "text/plain": [
              "<Figure size 1400x700 with 2 Axes>"
            ]
          },
          "metadata": {},
          "output_type": "display_data"
        }
      ],
      "source": [
        "acc_list.sort()\n",
        "fm_list.sort()\n",
        "ind_class = []\n",
        "for i in range(1, 89):\n",
        "  ind_class.append(i)\n",
        "\n",
        "f = plt.figure(figsize=(14, 7))\n",
        "\n",
        "ax = f.add_subplot(121)\n",
        "ax.plot(ind_class, acc_list, linewidth=3)\n",
        "ax.set_title('(a) Accuraccy Distribution', fontsize=19)\n",
        "ax.set_xlabel('Individual Classifiers', fontsize=17)\n",
        "ax.set_ylim(-.1, 1.1)\n",
        "\n",
        "ax2 = f.add_subplot(122)\n",
        "ax2.plot(ind_class, fm_list, linewidth=3)\n",
        "ax2.set_title('(b) F-Measure Distribution', fontsize=19)\n",
        "ax2.set_xlabel('Individual Classifiers', fontsize=17)\n",
        "ax2.set_ylim(-.1, 1.1)"
      ]
    },
    {
      "cell_type": "markdown",
      "metadata": {
        "id": "LwlW4EEWZg6s"
      },
      "source": [
        "# **Frequency of Interactions**\n",
        "\n",
        " 1. Modifying dict_key_conversion to Count Key Interactions:\n",
        "\n",
        "In the function dict_key_conversion, we will add a new counter (key_interactions_count) that counts key press/release events."
      ]
    },
    {
      "cell_type": "code",
      "execution_count": 30,
      "metadata": {
        "id": "fVdrnQq8Z7_z"
      },
      "outputs": [],
      "source": [
        "def dict_key_conversion(data):\n",
        "    temp_df = pd.DataFrame(columns=['test_number', 'dwell_time', 'flight_time', 'key_pressed'])\n",
        "    temp_flight_df = pd.DataFrame(columns=['test_number', 'flight_time', 'key_released'])\n",
        "\n",
        "    temp_df_count = 0\n",
        "    temp_flight_df_count = 0\n",
        "    key_interactions_count = 0  # Counter for key interactions\n",
        "\n",
        "    for i in range(1, 11):\n",
        "        k_data = data['test_'+str(i)]['key_events']\n",
        "        tabless_k_data = [k for k in k_data if k['Key'] != 'tab']\n",
        "\n",
        "        for j in tabless_k_data:\n",
        "            if j['Event'] in ['pressed', 'released']:  # Count both key presses and releases\n",
        "                key_interactions_count += 1\n",
        "\n",
        "            # Existing logic for dwell time and flight time continues here...\n",
        "\n",
        "    true_k_df = temp_df\n",
        "    return true_k_df, key_interactions_count  # Return the count along with the dataframe\n"
      ]
    },
    {
      "cell_type": "markdown",
      "metadata": {
        "id": "JeA0rpP4aFc_"
      },
      "source": [
        "# 2. Modifying dict_mouse_conversion to Count Mouse Interactions:\n",
        "In the function dict_mouse_conversion, we will add a new counter (mouse_interactions_count) to count mouse movements."
      ]
    },
    {
      "cell_type": "code",
      "execution_count": 31,
      "metadata": {
        "id": "_UZn1HVlaRHM"
      },
      "outputs": [],
      "source": [
        "def dict_mouse_conversion(data):\n",
        "    m_df = pd.DataFrame(columns = ['test_number', 'movement_id', 'trajectory', 'single_coor'])\n",
        "    row_count = 0\n",
        "    mouse_interactions_count = 0  # Counter for mouse interactions\n",
        "\n",
        "    for i in range(1, 11):\n",
        "        m_data = data['test_'+str(i)]['mouse_events']\n",
        "        m_movements = [j for j in m_data[:len(m_data)-1] if j['Event'] == 'movement']\n",
        "\n",
        "        mouse_interactions_count += len(m_movements)  # Count the number of mouse movements\n",
        "\n",
        "        # Existing logic for movement trajectory continues here...\n",
        "\n",
        "    m_df = m_df.reset_index(drop=True)\n",
        "    return m_df, mouse_interactions_count  # Return the count along with the dataframe\n"
      ]
    },
    {
      "cell_type": "markdown",
      "metadata": {
        "id": "2kOk7HVyaZdz"
      },
      "source": [
        "# 3. Adjusting the Main Experiment Code to Include Interaction Counts:\n",
        "\n",
        "We now need to adjust the main experiment loop to handle the interaction counts returned by the modified functions. We'll add the interaction counts as features in the feature_gen function."
      ]
    },
    {
      "cell_type": "code",
      "execution_count": 32,
      "metadata": {
        "id": "DMp9WUqEab8R"
      },
      "outputs": [],
      "source": [
        "# Modify the feature_gen function to include interaction counts\n",
        "def feature_gen(k_data, m_data, key_interactions, mouse_interactions):\n",
        "    columns = ['dwell_avg', 'flight_avg', 'traj_avg', 'key_interactions', 'mouse_interactions']\n",
        "\n",
        "    df = pd.DataFrame(columns=columns)\n",
        "\n",
        "    for i in range(1, 11):\n",
        "        dwell_list = []\n",
        "        flight_list = []\n",
        "        traj_list = []\n",
        "\n",
        "        for j in k_data.index:\n",
        "            if k_data.at[j, 'test_number'] == i:\n",
        "                dwell_list.append(k_data.at[j, 'dwell_time'])\n",
        "                flight_list.append(k_data.at[j, 'flight_time'])\n",
        "        for j in m_data.index:\n",
        "            if m_data.at[j, 'test_number'] == i:\n",
        "                traj_list.append(m_data.at[j, 'trajectory'])\n",
        "\n",
        "        # Average calculations\n",
        "        dwell_avg = sum(dwell_list) / len(dwell_list) if dwell_list else 0\n",
        "        flight_avg = sum(flight_list) / len(flight_list) if flight_list else 0\n",
        "        traj_avg = sum(traj_list) / len(traj_list) if traj_list else 0\n",
        "\n",
        "        # Add the interaction counts for each test\n",
        "        agg_data = [dwell_avg, flight_avg, traj_avg, key_interactions, mouse_interactions]\n",
        "\n",
        "        df.loc[i] = agg_data\n",
        "\n",
        "    return df\n"
      ]
    },
    {
      "cell_type": "markdown",
      "metadata": {
        "id": "_bAaMLFaagfR"
      },
      "source": [
        "# 4. Updating the Experiment Loop:\n",
        "\n",
        "The experiment loop is updated to extract the number of key and mouse interactions for each user using modified dict_key_conversion and dict_mouse_conversion functions. These interaction counts are added as new features in the feature_gen function, alongside dwell time, flight time, and trajectory, before training the Decision Tree model.\n"
      ]
    },
    {
      "cell_type": "code",
      "execution_count": 34,
      "metadata": {
        "id": "TXDHpdskalFv"
      },
      "outputs": [],
      "source": [
        "# RUNS THE MODEL ON EACH OF THE USER'S DATA\n",
        "for i in range(1, 89):\n",
        "    user_number = str(i).zfill(4)\n",
        "    f = open('/content/drive/MyDrive/behaviour_biometrics_dataset/raw_kmt_dataset/raw_kmt_user_' + user_number + '.json')\n",
        "    data = json.load(f)\n",
        "\n",
        "    true_data = data['true_data']\n",
        "    false_data = data['false_data']\n",
        "\n",
        "    # Get key and mouse events along with interaction counts\n",
        "    true_k_df, true_key_interactions = dict_key_conversion(true_data)\n",
        "    false_k_df, false_key_interactions = dict_key_conversion(false_data)\n",
        "\n",
        "    true_m_df, true_mouse_interactions = dict_mouse_conversion(true_data)\n",
        "    false_m_df, false_mouse_interactions = dict_mouse_conversion(false_data)\n",
        "\n",
        "    # Generate features including interaction counts\n",
        "    true_df = feature_gen(true_k_df, true_m_df, true_key_interactions, true_mouse_interactions)\n",
        "    false_df = feature_gen(false_k_df, false_m_df, false_key_interactions, false_mouse_interactions)\n",
        "\n",
        "    # Label data\n",
        "    true_df['label'] = 1\n",
        "    false_df['label'] = 0\n",
        "\n",
        "    final_df = pd.concat([true_df, false_df]).reset_index(drop=True)\n",
        "\n",
        "    # Train-test split and model training\n",
        "    y = final_df['label'].tolist()\n",
        "    X = final_df.drop(['label'], axis=1)\n",
        "    X_train, X_test, y_train, y_test = train_test_split(X, y, test_size=0.2, random_state=0)\n",
        "\n",
        "    clf = tree.DecisionTreeClassifier()\n",
        "    clf.fit(X_train, y_train)\n",
        "    predicted_labels = clf.predict(X_test)\n",
        "\n",
        "    # Existing code for accuracy and F1-score calculations continues here...\n"
      ]
    },
    {
      "cell_type": "code",
      "execution_count": 35,
      "metadata": {
        "colab": {
          "base_uri": "https://localhost:8080/",
          "height": 224
        },
        "id": "g93UXvqmbUgJ",
        "outputId": "3eb40023-6514-463b-9336-72668348d667"
      },
      "outputs": [
        {
          "data": {
            "application/vnd.google.colaboratory.intrinsic+json": {
              "summary": "{\n  \"name\": \"print(\\\"User\\\", i, \\\"Key Interactions:\\\", true_key_interactions, \\\"Mouse Interactions:\\\", true_mouse_interactions)\",\n  \"rows\": 5,\n  \"fields\": [\n    {\n      \"column\": \"dwell_avg\",\n      \"properties\": {\n        \"dtype\": \"number\",\n        \"std\": 0,\n        \"min\": 0,\n        \"max\": 0,\n        \"num_unique_values\": 1,\n        \"samples\": [\n          0\n        ],\n        \"semantic_type\": \"\",\n        \"description\": \"\"\n      }\n    },\n    {\n      \"column\": \"flight_avg\",\n      \"properties\": {\n        \"dtype\": \"number\",\n        \"std\": 0,\n        \"min\": 0,\n        \"max\": 0,\n        \"num_unique_values\": 1,\n        \"samples\": [\n          0\n        ],\n        \"semantic_type\": \"\",\n        \"description\": \"\"\n      }\n    },\n    {\n      \"column\": \"traj_avg\",\n      \"properties\": {\n        \"dtype\": \"number\",\n        \"std\": 0,\n        \"min\": 0,\n        \"max\": 0,\n        \"num_unique_values\": 1,\n        \"samples\": [\n          0\n        ],\n        \"semantic_type\": \"\",\n        \"description\": \"\"\n      }\n    },\n    {\n      \"column\": \"key_interactions\",\n      \"properties\": {\n        \"dtype\": \"number\",\n        \"std\": 0,\n        \"min\": 1013,\n        \"max\": 1013,\n        \"num_unique_values\": 1,\n        \"samples\": [\n          1013\n        ],\n        \"semantic_type\": \"\",\n        \"description\": \"\"\n      }\n    },\n    {\n      \"column\": \"mouse_interactions\",\n      \"properties\": {\n        \"dtype\": \"number\",\n        \"std\": 0,\n        \"min\": 3564,\n        \"max\": 3564,\n        \"num_unique_values\": 1,\n        \"samples\": [\n          3564\n        ],\n        \"semantic_type\": \"\",\n        \"description\": \"\"\n      }\n    },\n    {\n      \"column\": \"label\",\n      \"properties\": {\n        \"dtype\": \"number\",\n        \"std\": 0,\n        \"min\": 1,\n        \"max\": 1,\n        \"num_unique_values\": 1,\n        \"samples\": [\n          1\n        ],\n        \"semantic_type\": \"\",\n        \"description\": \"\"\n      }\n    }\n  ]\n}",
              "type": "dataframe"
            },
            "text/html": [
              "\n",
              "  <div id=\"df-0766a029-1a17-41ef-b9d2-7130181c8eff\" class=\"colab-df-container\">\n",
              "    <div>\n",
              "<style scoped>\n",
              "    .dataframe tbody tr th:only-of-type {\n",
              "        vertical-align: middle;\n",
              "    }\n",
              "\n",
              "    .dataframe tbody tr th {\n",
              "        vertical-align: top;\n",
              "    }\n",
              "\n",
              "    .dataframe thead th {\n",
              "        text-align: right;\n",
              "    }\n",
              "</style>\n",
              "<table border=\"1\" class=\"dataframe\">\n",
              "  <thead>\n",
              "    <tr style=\"text-align: right;\">\n",
              "      <th></th>\n",
              "      <th>dwell_avg</th>\n",
              "      <th>flight_avg</th>\n",
              "      <th>traj_avg</th>\n",
              "      <th>key_interactions</th>\n",
              "      <th>mouse_interactions</th>\n",
              "      <th>label</th>\n",
              "    </tr>\n",
              "  </thead>\n",
              "  <tbody>\n",
              "    <tr>\n",
              "      <th>0</th>\n",
              "      <td>0</td>\n",
              "      <td>0</td>\n",
              "      <td>0</td>\n",
              "      <td>1013</td>\n",
              "      <td>3564</td>\n",
              "      <td>1</td>\n",
              "    </tr>\n",
              "    <tr>\n",
              "      <th>1</th>\n",
              "      <td>0</td>\n",
              "      <td>0</td>\n",
              "      <td>0</td>\n",
              "      <td>1013</td>\n",
              "      <td>3564</td>\n",
              "      <td>1</td>\n",
              "    </tr>\n",
              "    <tr>\n",
              "      <th>2</th>\n",
              "      <td>0</td>\n",
              "      <td>0</td>\n",
              "      <td>0</td>\n",
              "      <td>1013</td>\n",
              "      <td>3564</td>\n",
              "      <td>1</td>\n",
              "    </tr>\n",
              "    <tr>\n",
              "      <th>3</th>\n",
              "      <td>0</td>\n",
              "      <td>0</td>\n",
              "      <td>0</td>\n",
              "      <td>1013</td>\n",
              "      <td>3564</td>\n",
              "      <td>1</td>\n",
              "    </tr>\n",
              "    <tr>\n",
              "      <th>4</th>\n",
              "      <td>0</td>\n",
              "      <td>0</td>\n",
              "      <td>0</td>\n",
              "      <td>1013</td>\n",
              "      <td>3564</td>\n",
              "      <td>1</td>\n",
              "    </tr>\n",
              "  </tbody>\n",
              "</table>\n",
              "</div>\n",
              "    <div class=\"colab-df-buttons\">\n",
              "\n",
              "  <div class=\"colab-df-container\">\n",
              "    <button class=\"colab-df-convert\" onclick=\"convertToInteractive('df-0766a029-1a17-41ef-b9d2-7130181c8eff')\"\n",
              "            title=\"Convert this dataframe to an interactive table.\"\n",
              "            style=\"display:none;\">\n",
              "\n",
              "  <svg xmlns=\"http://www.w3.org/2000/svg\" height=\"24px\" viewBox=\"0 -960 960 960\">\n",
              "    <path d=\"M120-120v-720h720v720H120Zm60-500h600v-160H180v160Zm220 220h160v-160H400v160Zm0 220h160v-160H400v160ZM180-400h160v-160H180v160Zm440 0h160v-160H620v160ZM180-180h160v-160H180v160Zm440 0h160v-160H620v160Z\"/>\n",
              "  </svg>\n",
              "    </button>\n",
              "\n",
              "  <style>\n",
              "    .colab-df-container {\n",
              "      display:flex;\n",
              "      gap: 12px;\n",
              "    }\n",
              "\n",
              "    .colab-df-convert {\n",
              "      background-color: #E8F0FE;\n",
              "      border: none;\n",
              "      border-radius: 50%;\n",
              "      cursor: pointer;\n",
              "      display: none;\n",
              "      fill: #1967D2;\n",
              "      height: 32px;\n",
              "      padding: 0 0 0 0;\n",
              "      width: 32px;\n",
              "    }\n",
              "\n",
              "    .colab-df-convert:hover {\n",
              "      background-color: #E2EBFA;\n",
              "      box-shadow: 0px 1px 2px rgba(60, 64, 67, 0.3), 0px 1px 3px 1px rgba(60, 64, 67, 0.15);\n",
              "      fill: #174EA6;\n",
              "    }\n",
              "\n",
              "    .colab-df-buttons div {\n",
              "      margin-bottom: 4px;\n",
              "    }\n",
              "\n",
              "    [theme=dark] .colab-df-convert {\n",
              "      background-color: #3B4455;\n",
              "      fill: #D2E3FC;\n",
              "    }\n",
              "\n",
              "    [theme=dark] .colab-df-convert:hover {\n",
              "      background-color: #434B5C;\n",
              "      box-shadow: 0px 1px 3px 1px rgba(0, 0, 0, 0.15);\n",
              "      filter: drop-shadow(0px 1px 2px rgba(0, 0, 0, 0.3));\n",
              "      fill: #FFFFFF;\n",
              "    }\n",
              "  </style>\n",
              "\n",
              "    <script>\n",
              "      const buttonEl =\n",
              "        document.querySelector('#df-0766a029-1a17-41ef-b9d2-7130181c8eff button.colab-df-convert');\n",
              "      buttonEl.style.display =\n",
              "        google.colab.kernel.accessAllowed ? 'block' : 'none';\n",
              "\n",
              "      async function convertToInteractive(key) {\n",
              "        const element = document.querySelector('#df-0766a029-1a17-41ef-b9d2-7130181c8eff');\n",
              "        const dataTable =\n",
              "          await google.colab.kernel.invokeFunction('convertToInteractive',\n",
              "                                                    [key], {});\n",
              "        if (!dataTable) return;\n",
              "\n",
              "        const docLinkHtml = 'Like what you see? Visit the ' +\n",
              "          '<a target=\"_blank\" href=https://colab.research.google.com/notebooks/data_table.ipynb>data table notebook</a>'\n",
              "          + ' to learn more about interactive tables.';\n",
              "        element.innerHTML = '';\n",
              "        dataTable['output_type'] = 'display_data';\n",
              "        await google.colab.output.renderOutput(dataTable, element);\n",
              "        const docLink = document.createElement('div');\n",
              "        docLink.innerHTML = docLinkHtml;\n",
              "        element.appendChild(docLink);\n",
              "      }\n",
              "    </script>\n",
              "  </div>\n",
              "\n",
              "\n",
              "<div id=\"df-109c5609-c46f-489e-9974-adbde004d7f9\">\n",
              "  <button class=\"colab-df-quickchart\" onclick=\"quickchart('df-109c5609-c46f-489e-9974-adbde004d7f9')\"\n",
              "            title=\"Suggest charts\"\n",
              "            style=\"display:none;\">\n",
              "\n",
              "<svg xmlns=\"http://www.w3.org/2000/svg\" height=\"24px\"viewBox=\"0 0 24 24\"\n",
              "     width=\"24px\">\n",
              "    <g>\n",
              "        <path d=\"M19 3H5c-1.1 0-2 .9-2 2v14c0 1.1.9 2 2 2h14c1.1 0 2-.9 2-2V5c0-1.1-.9-2-2-2zM9 17H7v-7h2v7zm4 0h-2V7h2v10zm4 0h-2v-4h2v4z\"/>\n",
              "    </g>\n",
              "</svg>\n",
              "  </button>\n",
              "\n",
              "<style>\n",
              "  .colab-df-quickchart {\n",
              "      --bg-color: #E8F0FE;\n",
              "      --fill-color: #1967D2;\n",
              "      --hover-bg-color: #E2EBFA;\n",
              "      --hover-fill-color: #174EA6;\n",
              "      --disabled-fill-color: #AAA;\n",
              "      --disabled-bg-color: #DDD;\n",
              "  }\n",
              "\n",
              "  [theme=dark] .colab-df-quickchart {\n",
              "      --bg-color: #3B4455;\n",
              "      --fill-color: #D2E3FC;\n",
              "      --hover-bg-color: #434B5C;\n",
              "      --hover-fill-color: #FFFFFF;\n",
              "      --disabled-bg-color: #3B4455;\n",
              "      --disabled-fill-color: #666;\n",
              "  }\n",
              "\n",
              "  .colab-df-quickchart {\n",
              "    background-color: var(--bg-color);\n",
              "    border: none;\n",
              "    border-radius: 50%;\n",
              "    cursor: pointer;\n",
              "    display: none;\n",
              "    fill: var(--fill-color);\n",
              "    height: 32px;\n",
              "    padding: 0;\n",
              "    width: 32px;\n",
              "  }\n",
              "\n",
              "  .colab-df-quickchart:hover {\n",
              "    background-color: var(--hover-bg-color);\n",
              "    box-shadow: 0 1px 2px rgba(60, 64, 67, 0.3), 0 1px 3px 1px rgba(60, 64, 67, 0.15);\n",
              "    fill: var(--button-hover-fill-color);\n",
              "  }\n",
              "\n",
              "  .colab-df-quickchart-complete:disabled,\n",
              "  .colab-df-quickchart-complete:disabled:hover {\n",
              "    background-color: var(--disabled-bg-color);\n",
              "    fill: var(--disabled-fill-color);\n",
              "    box-shadow: none;\n",
              "  }\n",
              "\n",
              "  .colab-df-spinner {\n",
              "    border: 2px solid var(--fill-color);\n",
              "    border-color: transparent;\n",
              "    border-bottom-color: var(--fill-color);\n",
              "    animation:\n",
              "      spin 1s steps(1) infinite;\n",
              "  }\n",
              "\n",
              "  @keyframes spin {\n",
              "    0% {\n",
              "      border-color: transparent;\n",
              "      border-bottom-color: var(--fill-color);\n",
              "      border-left-color: var(--fill-color);\n",
              "    }\n",
              "    20% {\n",
              "      border-color: transparent;\n",
              "      border-left-color: var(--fill-color);\n",
              "      border-top-color: var(--fill-color);\n",
              "    }\n",
              "    30% {\n",
              "      border-color: transparent;\n",
              "      border-left-color: var(--fill-color);\n",
              "      border-top-color: var(--fill-color);\n",
              "      border-right-color: var(--fill-color);\n",
              "    }\n",
              "    40% {\n",
              "      border-color: transparent;\n",
              "      border-right-color: var(--fill-color);\n",
              "      border-top-color: var(--fill-color);\n",
              "    }\n",
              "    60% {\n",
              "      border-color: transparent;\n",
              "      border-right-color: var(--fill-color);\n",
              "    }\n",
              "    80% {\n",
              "      border-color: transparent;\n",
              "      border-right-color: var(--fill-color);\n",
              "      border-bottom-color: var(--fill-color);\n",
              "    }\n",
              "    90% {\n",
              "      border-color: transparent;\n",
              "      border-bottom-color: var(--fill-color);\n",
              "    }\n",
              "  }\n",
              "</style>\n",
              "\n",
              "  <script>\n",
              "    async function quickchart(key) {\n",
              "      const quickchartButtonEl =\n",
              "        document.querySelector('#' + key + ' button');\n",
              "      quickchartButtonEl.disabled = true;  // To prevent multiple clicks.\n",
              "      quickchartButtonEl.classList.add('colab-df-spinner');\n",
              "      try {\n",
              "        const charts = await google.colab.kernel.invokeFunction(\n",
              "            'suggestCharts', [key], {});\n",
              "      } catch (error) {\n",
              "        console.error('Error during call to suggestCharts:', error);\n",
              "      }\n",
              "      quickchartButtonEl.classList.remove('colab-df-spinner');\n",
              "      quickchartButtonEl.classList.add('colab-df-quickchart-complete');\n",
              "    }\n",
              "    (() => {\n",
              "      let quickchartButtonEl =\n",
              "        document.querySelector('#df-109c5609-c46f-489e-9974-adbde004d7f9 button');\n",
              "      quickchartButtonEl.style.display =\n",
              "        google.colab.kernel.accessAllowed ? 'block' : 'none';\n",
              "    })();\n",
              "  </script>\n",
              "</div>\n",
              "\n",
              "    </div>\n",
              "  </div>\n"
            ],
            "text/plain": [
              "   dwell_avg  flight_avg  traj_avg  key_interactions  mouse_interactions  \\\n",
              "0          0           0         0              1013                3564   \n",
              "1          0           0         0              1013                3564   \n",
              "2          0           0         0              1013                3564   \n",
              "3          0           0         0              1013                3564   \n",
              "4          0           0         0              1013                3564   \n",
              "\n",
              "   label  \n",
              "0      1  \n",
              "1      1  \n",
              "2      1  \n",
              "3      1  \n",
              "4      1  "
            ]
          },
          "metadata": {},
          "output_type": "display_data"
        },
        {
          "name": "stdout",
          "output_type": "stream",
          "text": [
            "User 88 Key Interactions: 1013 Mouse Interactions: 3564\n"
          ]
        }
      ],
      "source": [
        "# Display the final dataframe with new features (including interaction counts)\n",
        "display(final_df.head())  # Show the first few rows of the final DataFrame\n",
        "\n",
        "\n",
        "print(\"User\", i, \"Key Interactions:\", true_key_interactions, \"Mouse Interactions:\", true_mouse_interactions)\n",
        "\n",
        "\n",
        "\n"
      ]
    },
    {
      "cell_type": "code",
      "execution_count": 37,
      "metadata": {
        "colab": {
          "base_uri": "https://localhost:8080/",
          "height": 567
        },
        "id": "zDoufHZubbpA",
        "outputId": "ad100056-1b6c-4883-8d7d-181750b51088"
      },
      "outputs": [
        {
          "data": {
            "image/png": "[encoded data removed]",
            "text/plain": [
              "<Figure size 1400x700 with 2 Axes>"
            ]
          },
          "metadata": {},
          "output_type": "display_data"
        }
      ],
      "source": [
        "# Lists to store interaction counts for visualization\n",
        "key_interaction_list = []\n",
        "mouse_interaction_list = []\n",
        "\n",
        "for i in range(1, 89):\n",
        "    user_number = str(i).zfill(4)\n",
        "    f = open('/content/drive/MyDrive/behaviour_biometrics_dataset/raw_kmt_dataset/raw_kmt_user_' + user_number + '.json')\n",
        "    data = json.load(f)\n",
        "\n",
        "    true_data = data['true_data']\n",
        "    false_data = data['false_data']\n",
        "\n",
        "    # Get key and mouse events along with interaction counts\n",
        "    true_k_df, true_key_interactions = dict_key_conversion(true_data)\n",
        "    false_k_df, false_key_interactions = dict_key_conversion(false_data)\n",
        "\n",
        "    true_m_df, true_mouse_interactions = dict_mouse_conversion(true_data)\n",
        "    false_m_df, false_mouse_interactions = dict_mouse_conversion(false_data)\n",
        "\n",
        "    # Append the interaction counts for plotting\n",
        "    key_interaction_list.append(true_key_interactions + false_key_interactions)\n",
        "    mouse_interaction_list.append(true_mouse_interactions + false_mouse_interactions)\n",
        "\n",
        "# Plot the interaction counts\n",
        "plt.figure(figsize=(14, 7))\n",
        "plt.subplot(121)\n",
        "plt.plot(range(1, 89), key_interaction_list, label='Key Interactions', color='blue')\n",
        "plt.title('Key Interactions per User')\n",
        "plt.xlabel('User')\n",
        "plt.ylabel('Number of Key Interactions')\n",
        "\n",
        "plt.subplot(122)\n",
        "plt.plot(range(1, 89), mouse_interaction_list, label='Mouse Interactions', color='green')\n",
        "plt.title('Mouse Interactions per User')\n",
        "plt.xlabel('User')\n",
        "plt.ylabel('Number of Mouse Interactions')\n",
        "\n",
        "plt.tight_layout()\n",
        "plt.show()\n"
      ]
    }
  ],
  "metadata": {
    "colab": {
      "provenance": [],
      "toc_visible": true
    },
    "kernelspec": {
      "display_name": "Python 3",
      "name": "python3"
    },
    "language_info": {
      "name": "python"
    }
  },
  "nbformat": 4,
  "nbformat_minor": 0
}
